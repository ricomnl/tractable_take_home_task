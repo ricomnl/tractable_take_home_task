{
 "cells": [
  {
   "cell_type": "markdown",
   "metadata": {},
   "source": [
    "# Take home task"
   ]
  },
  {
   "cell_type": "markdown",
   "metadata": {},
   "source": [
    "- Output of an Undamaged-Repair-Replace (URR) classifier\n",
    "- per part detects whether the part is undamaged or whether it needs to be repaired or replaced\n",
    "- parts that are lightly damaged are typically repaired and parts that are heavily damaged are typically replaced \n",
    "- undamaged < repair < replace\n",
    "\n",
    "Task:\n",
    "- based on the URR classifier output and some ground-truth metadata, find the right thresholds/ decision boundaries that distinguish the three classes - undamaged, repair and replace"
   ]
  },
  {
   "cell_type": "markdown",
   "metadata": {},
   "source": [
    "<img src=\"img/car_parts.jpg\" alt=\"drawing\" width=\"700\"/>"
   ]
  },
  {
   "cell_type": "code",
   "execution_count": 50,
   "metadata": {},
   "outputs": [],
   "source": [
    "import glob\n",
    "\n",
    "import pandas as pd\n",
    "pd.options.mode.chained_assignment = None  # default='warn'\n",
    "\n",
    "import numpy as np\n",
    "import matplotlib.pyplot as plt\n",
    "from sklearn.metrics import precision_recall_curve, auc, precision_recall_fscore_support, f1_score, confusion_matrix, plot_confusion_matrix\n",
    "from sklearn.preprocessing import LabelEncoder\n",
    "from sklearn.linear_model import LogisticRegression\n",
    "import scipy\n",
    "import seaborn as sns"
   ]
  },
  {
   "cell_type": "markdown",
   "metadata": {},
   "source": [
    "# Data"
   ]
  },
  {
   "cell_type": "markdown",
   "metadata": {},
   "source": [
    "## Metadata\n",
    "Claim data:\n",
    "- claim_id: A unique ID for a claim\n",
    "- make: Make description of the vehicle\n",
    "- model: Model description of the vehicle\n",
    "- year: Model year of the vehicle\n",
    "- poi: The main point of impact (eg. Front Centre, Right Rear Corner, etc.)\n",
    "\n",
    "Line data:\n",
    "- line_num: Number of the line item\n",
    "- part: Name of part (eg. fbumper, bbumper, etc.)\n",
    "- operation: Name of operation (eg. repair, replace)\n",
    "- part_price: Total price of the part if replaced in \\\\$\n",
    "- labour_amt: Total labour amount to perform the operation in \\\\$\n",
    "\n",
    "Additional info:\n",
    "- a claim can have multiple line items (the claim data columns will be the same, and the line data columns differ)\n",
    "- the line data contains information on the damaged parts for the claims: the operation (repair or replace) performed on the part and the cost associated with the operations\n",
    "- If there isn’t a line for a part in a claim, assume that that part is undamaged\n",
    "- Also assume that the vehicle details (make, model, year) and point of impact (poi) are known at inference time"
   ]
  },
  {
   "cell_type": "code",
   "execution_count": 96,
   "metadata": {},
   "outputs": [],
   "source": [
    "def read_folder_to_pd(path):\n",
    "    \"\"\" Read all files in a folder into a pandas dataframe. \"\"\"\n",
    "    all_files = sorted(glob.glob(path + \"/*.csv\"))\n",
    "\n",
    "    li = []\n",
    "\n",
    "    for filename in all_files:\n",
    "        df = pd.read_csv(filename, index_col=None, header=0)\n",
    "        li.append(df)\n",
    "\n",
    "    return pd.concat(li, axis=0, ignore_index=True)"
   ]
  },
  {
   "cell_type": "code",
   "execution_count": 97,
   "metadata": {},
   "outputs": [],
   "source": [
    "metadata = read_folder_to_pd(\"./tractable_ds_excercise_data/metadata/\")"
   ]
  },
  {
   "cell_type": "code",
   "execution_count": 98,
   "metadata": {},
   "outputs": [],
   "source": [
    "metadata = metadata.sort_values(by=[\"claim_id\", \"line_num\"]).reset_index(drop=True)"
   ]
  },
  {
   "cell_type": "code",
   "execution_count": 99,
   "metadata": {},
   "outputs": [
    {
     "data": {
      "text/html": [
       "<div>\n",
       "<style scoped>\n",
       "    .dataframe tbody tr th:only-of-type {\n",
       "        vertical-align: middle;\n",
       "    }\n",
       "\n",
       "    .dataframe tbody tr th {\n",
       "        vertical-align: top;\n",
       "    }\n",
       "\n",
       "    .dataframe thead th {\n",
       "        text-align: right;\n",
       "    }\n",
       "</style>\n",
       "<table border=\"1\" class=\"dataframe\">\n",
       "  <thead>\n",
       "    <tr style=\"text-align: right;\">\n",
       "      <th></th>\n",
       "      <th>claim_id</th>\n",
       "      <th>make</th>\n",
       "      <th>model</th>\n",
       "      <th>year</th>\n",
       "      <th>poi</th>\n",
       "      <th>line_num</th>\n",
       "      <th>part</th>\n",
       "      <th>operation</th>\n",
       "      <th>part_price</th>\n",
       "      <th>labour_amt</th>\n",
       "    </tr>\n",
       "  </thead>\n",
       "  <tbody>\n",
       "    <tr>\n",
       "      <th>0</th>\n",
       "      <td>0</td>\n",
       "      <td>Volkswagen</td>\n",
       "      <td>Tiguan</td>\n",
       "      <td>2010.0</td>\n",
       "      <td>Rear Centre</td>\n",
       "      <td>1</td>\n",
       "      <td>bbumper</td>\n",
       "      <td>replace</td>\n",
       "      <td>266.600006</td>\n",
       "      <td>110.000005</td>\n",
       "    </tr>\n",
       "    <tr>\n",
       "      <th>1</th>\n",
       "      <td>1</td>\n",
       "      <td>Peugeot</td>\n",
       "      <td>307</td>\n",
       "      <td>2003.0</td>\n",
       "      <td>Rear Left</td>\n",
       "      <td>1</td>\n",
       "      <td>bbumper</td>\n",
       "      <td>replace</td>\n",
       "      <td>308.920013</td>\n",
       "      <td>55.000002</td>\n",
       "    </tr>\n",
       "    <tr>\n",
       "      <th>2</th>\n",
       "      <td>1</td>\n",
       "      <td>Peugeot</td>\n",
       "      <td>307</td>\n",
       "      <td>2003.0</td>\n",
       "      <td>Rear Left</td>\n",
       "      <td>2</td>\n",
       "      <td>bldoor</td>\n",
       "      <td>repair</td>\n",
       "      <td>NaN</td>\n",
       "      <td>55.000001</td>\n",
       "    </tr>\n",
       "    <tr>\n",
       "      <th>3</th>\n",
       "      <td>1</td>\n",
       "      <td>Peugeot</td>\n",
       "      <td>307</td>\n",
       "      <td>2003.0</td>\n",
       "      <td>Rear Left</td>\n",
       "      <td>3</td>\n",
       "      <td>blwing</td>\n",
       "      <td>replace</td>\n",
       "      <td>337.709991</td>\n",
       "      <td>114.999998</td>\n",
       "    </tr>\n",
       "    <tr>\n",
       "      <th>4</th>\n",
       "      <td>2</td>\n",
       "      <td>Volkswagen</td>\n",
       "      <td>Vw</td>\n",
       "      <td>2007.0</td>\n",
       "      <td>Front Centre</td>\n",
       "      <td>1</td>\n",
       "      <td>fbumper</td>\n",
       "      <td>replace</td>\n",
       "      <td>294.000000</td>\n",
       "      <td>115.000007</td>\n",
       "    </tr>\n",
       "    <tr>\n",
       "      <th>5</th>\n",
       "      <td>3</td>\n",
       "      <td>Ford</td>\n",
       "      <td>Ka</td>\n",
       "      <td>2009.0</td>\n",
       "      <td>NaN</td>\n",
       "      <td>1</td>\n",
       "      <td>bbumper</td>\n",
       "      <td>replace</td>\n",
       "      <td>207.009995</td>\n",
       "      <td>50.000001</td>\n",
       "    </tr>\n",
       "    <tr>\n",
       "      <th>6</th>\n",
       "      <td>3</td>\n",
       "      <td>Ford</td>\n",
       "      <td>Ka</td>\n",
       "      <td>2009.0</td>\n",
       "      <td>NaN</td>\n",
       "      <td>2</td>\n",
       "      <td>brwing</td>\n",
       "      <td>repair</td>\n",
       "      <td>NaN</td>\n",
       "      <td>225.000000</td>\n",
       "    </tr>\n",
       "    <tr>\n",
       "      <th>7</th>\n",
       "      <td>4</td>\n",
       "      <td>Citroen</td>\n",
       "      <td>Jumper</td>\n",
       "      <td>2006.0</td>\n",
       "      <td>NaN</td>\n",
       "      <td>1</td>\n",
       "      <td>bbumper</td>\n",
       "      <td>repair</td>\n",
       "      <td>NaN</td>\n",
       "      <td>15.000001</td>\n",
       "    </tr>\n",
       "    <tr>\n",
       "      <th>8</th>\n",
       "      <td>4</td>\n",
       "      <td>Citroen</td>\n",
       "      <td>Jumper</td>\n",
       "      <td>2006.0</td>\n",
       "      <td>NaN</td>\n",
       "      <td>2</td>\n",
       "      <td>brdoor</td>\n",
       "      <td>repair</td>\n",
       "      <td>NaN</td>\n",
       "      <td>585.000002</td>\n",
       "    </tr>\n",
       "    <tr>\n",
       "      <th>9</th>\n",
       "      <td>4</td>\n",
       "      <td>Citroen</td>\n",
       "      <td>Jumper</td>\n",
       "      <td>2006.0</td>\n",
       "      <td>NaN</td>\n",
       "      <td>3</td>\n",
       "      <td>brwing</td>\n",
       "      <td>repair</td>\n",
       "      <td>NaN</td>\n",
       "      <td>555.000007</td>\n",
       "    </tr>\n",
       "  </tbody>\n",
       "</table>\n",
       "</div>"
      ],
      "text/plain": [
       "   claim_id        make   model    year           poi  line_num     part  \\\n",
       "0         0  Volkswagen  Tiguan  2010.0   Rear Centre         1  bbumper   \n",
       "1         1     Peugeot     307  2003.0     Rear Left         1  bbumper   \n",
       "2         1     Peugeot     307  2003.0     Rear Left         2   bldoor   \n",
       "3         1     Peugeot     307  2003.0     Rear Left         3   blwing   \n",
       "4         2  Volkswagen      Vw  2007.0  Front Centre         1  fbumper   \n",
       "5         3        Ford      Ka  2009.0           NaN         1  bbumper   \n",
       "6         3        Ford      Ka  2009.0           NaN         2   brwing   \n",
       "7         4     Citroen  Jumper  2006.0           NaN         1  bbumper   \n",
       "8         4     Citroen  Jumper  2006.0           NaN         2   brdoor   \n",
       "9         4     Citroen  Jumper  2006.0           NaN         3   brwing   \n",
       "\n",
       "  operation  part_price  labour_amt  \n",
       "0   replace  266.600006  110.000005  \n",
       "1   replace  308.920013   55.000002  \n",
       "2    repair         NaN   55.000001  \n",
       "3   replace  337.709991  114.999998  \n",
       "4   replace  294.000000  115.000007  \n",
       "5   replace  207.009995   50.000001  \n",
       "6    repair         NaN  225.000000  \n",
       "7    repair         NaN   15.000001  \n",
       "8    repair         NaN  585.000002  \n",
       "9    repair         NaN  555.000007  "
      ]
     },
     "execution_count": 99,
     "metadata": {},
     "output_type": "execute_result"
    }
   ],
   "source": [
    "metadata.head(10)"
   ]
  },
  {
   "cell_type": "code",
   "execution_count": 106,
   "metadata": {},
   "outputs": [
    {
     "data": {
      "text/plain": [
       "<AxesSubplot:title={'center':'Model year'}>"
      ]
     },
     "execution_count": 106,
     "metadata": {},
     "output_type": "execute_result"
    },
    {
     "data": {
      "image/png": "[encoded data removed]",
      "text/plain": [
       "<Figure size 720x360 with 1 Axes>"
      ]
     },
     "metadata": {
      "needs_background": "light"
     },
     "output_type": "display_data"
    }
   ],
   "source": [
    "metadata['year'].value_counts().plot(kind='bar',\n",
    "                                    figsize=(10,5),\n",
    "                                    title=\"Model year\")"
   ]
  },
  {
   "cell_type": "code",
   "execution_count": 93,
   "metadata": {},
   "outputs": [
    {
     "data": {
      "text/plain": [
       "<AxesSubplot:title={'center':'Car brands'}>"
      ]
     },
     "execution_count": 93,
     "metadata": {},
     "output_type": "execute_result"
    },
    {
     "data": {
      "image/png": "[encoded data removed]",
      "text/plain": [
       "<Figure size 576x288 with 1 Axes>"
      ]
     },
     "metadata": {
      "needs_background": "light"
     },
     "output_type": "display_data"
    }
   ],
   "source": [
    "metadata['make'].value_counts().plot(kind='bar',\n",
    "                                    figsize=(8,4),\n",
    "                                    title=\"Car brands\")"
   ]
  },
  {
   "cell_type": "code",
   "execution_count": 95,
   "metadata": {},
   "outputs": [
    {
     "data": {
      "text/plain": [
       "<AxesSubplot:title={'center':'Points of impact'}>"
      ]
     },
     "execution_count": 95,
     "metadata": {},
     "output_type": "execute_result"
    },
    {
     "data": {
      "image/png": "[encoded data removed]",
      "text/plain": [
       "<Figure size 576x288 with 1 Axes>"
      ]
     },
     "metadata": {
      "needs_background": "light"
     },
     "output_type": "display_data"
    }
   ],
   "source": [
    "metadata['poi'].value_counts().plot(kind='bar',\n",
    "                                    figsize=(8,4),\n",
    "                                    title=\"Points of impact\")"
   ]
  },
  {
   "cell_type": "markdown",
   "metadata": {},
   "source": [
    "## Classifier output"
   ]
  },
  {
   "cell_type": "markdown",
   "metadata": {},
   "source": [
    "Classifier output data:\n",
    "- claim_id: A unique ID for the claim\n",
    "- part: Name of part (eg. fbumper, bbumper, etc.)\n",
    "- urr_score: Undamaged / Repair / Replace score, float value ranging from 0 to 1\n",
    "- set: The set (train/val/test) that the claim belongs to, where 0 => train, 1 => val and 2 => test\n",
    "\n",
    "Additional info:\n",
    "- For each claim, the classifiers output scores for all 10 parts, so there will be 10 lines per claim in this file\n",
    "- If the classifier score is missing, that means that the part was not identified by the AI in the images provided"
   ]
  },
  {
   "cell_type": "code",
   "execution_count": 101,
   "metadata": {},
   "outputs": [],
   "source": [
    "clf_output = pd.read_csv(\"./tractable_ds_excercise_data/classifier_output.csv\")"
   ]
  },
  {
   "cell_type": "code",
   "execution_count": 102,
   "metadata": {},
   "outputs": [],
   "source": [
    "# dropping all NaNs because here NaN means the part was not identified, hence the score is not \"undamaged\" but meaningless\n",
    "clf_output = clf_output.dropna(axis=0).reset_index(drop=True)"
   ]
  },
  {
   "cell_type": "code",
   "execution_count": 103,
   "metadata": {},
   "outputs": [
    {
     "data": {
      "text/html": [
       "<div>\n",
       "<style scoped>\n",
       "    .dataframe tbody tr th:only-of-type {\n",
       "        vertical-align: middle;\n",
       "    }\n",
       "\n",
       "    .dataframe tbody tr th {\n",
       "        vertical-align: top;\n",
       "    }\n",
       "\n",
       "    .dataframe thead th {\n",
       "        text-align: right;\n",
       "    }\n",
       "</style>\n",
       "<table border=\"1\" class=\"dataframe\">\n",
       "  <thead>\n",
       "    <tr style=\"text-align: right;\">\n",
       "      <th></th>\n",
       "      <th>claim_id</th>\n",
       "      <th>part</th>\n",
       "      <th>urr_score</th>\n",
       "      <th>set</th>\n",
       "    </tr>\n",
       "  </thead>\n",
       "  <tbody>\n",
       "    <tr>\n",
       "      <th>0</th>\n",
       "      <td>0</td>\n",
       "      <td>fbumper</td>\n",
       "      <td>0.464102</td>\n",
       "      <td>0</td>\n",
       "    </tr>\n",
       "    <tr>\n",
       "      <th>1</th>\n",
       "      <td>0</td>\n",
       "      <td>bbumper</td>\n",
       "      <td>0.680342</td>\n",
       "      <td>0</td>\n",
       "    </tr>\n",
       "    <tr>\n",
       "      <th>2</th>\n",
       "      <td>0</td>\n",
       "      <td>blwing</td>\n",
       "      <td>0.899217</td>\n",
       "      <td>0</td>\n",
       "    </tr>\n",
       "    <tr>\n",
       "      <th>3</th>\n",
       "      <td>1</td>\n",
       "      <td>bbumper</td>\n",
       "      <td>0.790558</td>\n",
       "      <td>0</td>\n",
       "    </tr>\n",
       "    <tr>\n",
       "      <th>4</th>\n",
       "      <td>1</td>\n",
       "      <td>bldoor</td>\n",
       "      <td>0.050809</td>\n",
       "      <td>0</td>\n",
       "    </tr>\n",
       "    <tr>\n",
       "      <th>5</th>\n",
       "      <td>1</td>\n",
       "      <td>fldoor</td>\n",
       "      <td>0.085575</td>\n",
       "      <td>0</td>\n",
       "    </tr>\n",
       "    <tr>\n",
       "      <th>6</th>\n",
       "      <td>1</td>\n",
       "      <td>blwing</td>\n",
       "      <td>0.979714</td>\n",
       "      <td>0</td>\n",
       "    </tr>\n",
       "    <tr>\n",
       "      <th>7</th>\n",
       "      <td>2</td>\n",
       "      <td>fbumper</td>\n",
       "      <td>0.599913</td>\n",
       "      <td>0</td>\n",
       "    </tr>\n",
       "    <tr>\n",
       "      <th>8</th>\n",
       "      <td>2</td>\n",
       "      <td>bbumper</td>\n",
       "      <td>0.645391</td>\n",
       "      <td>0</td>\n",
       "    </tr>\n",
       "    <tr>\n",
       "      <th>9</th>\n",
       "      <td>2</td>\n",
       "      <td>bldoor</td>\n",
       "      <td>0.331490</td>\n",
       "      <td>0</td>\n",
       "    </tr>\n",
       "  </tbody>\n",
       "</table>\n",
       "</div>"
      ],
      "text/plain": [
       "   claim_id     part  urr_score  set\n",
       "0         0  fbumper   0.464102    0\n",
       "1         0  bbumper   0.680342    0\n",
       "2         0   blwing   0.899217    0\n",
       "3         1  bbumper   0.790558    0\n",
       "4         1   bldoor   0.050809    0\n",
       "5         1   fldoor   0.085575    0\n",
       "6         1   blwing   0.979714    0\n",
       "7         2  fbumper   0.599913    0\n",
       "8         2  bbumper   0.645391    0\n",
       "9         2   bldoor   0.331490    0"
      ]
     },
     "execution_count": 103,
     "metadata": {},
     "output_type": "execute_result"
    }
   ],
   "source": [
    "clf_output.head(10)"
   ]
  },
  {
   "cell_type": "markdown",
   "metadata": {},
   "source": [
    "# Tasks"
   ]
  },
  {
   "cell_type": "markdown",
   "metadata": {},
   "source": [
    "# Part 1\n",
    "- improve the performance of the URR classifier by determining the right thresholds/decision boundaries between the three classes (undamaged/repair/replace)\n",
    "- the purpose of the final system is to predict which parts need to be repaired and replaced in a given claim, but your task stops at finding the thresholds"
   ]
  },
  {
   "cell_type": "markdown",
   "metadata": {},
   "source": [
    "## Task 1\n",
    "Determine ground-truth labels from the metadata and merge the two data dumps for analysis (expected content in hand-in: code)"
   ]
  },
  {
   "cell_type": "code",
   "execution_count": 104,
   "metadata": {},
   "outputs": [],
   "source": [
    "data = clf_output.merge(metadata[[\"claim_id\", \"part\", \"operation\"]], on=[\"claim_id\", \"part\"], how=\"left\")\n",
    "# here we fill all NaNs with \"undamaged\" because when a line is not in the metadata we can assume the part is undamaged\n",
    "data[\"operation\"] = data[\"operation\"].fillna(\"undamaged\")"
   ]
  },
  {
   "cell_type": "code",
   "execution_count": 105,
   "metadata": {},
   "outputs": [
    {
     "data": {
      "text/html": [
       "<div>\n",
       "<style scoped>\n",
       "    .dataframe tbody tr th:only-of-type {\n",
       "        vertical-align: middle;\n",
       "    }\n",
       "\n",
       "    .dataframe tbody tr th {\n",
       "        vertical-align: top;\n",
       "    }\n",
       "\n",
       "    .dataframe thead th {\n",
       "        text-align: right;\n",
       "    }\n",
       "</style>\n",
       "<table border=\"1\" class=\"dataframe\">\n",
       "  <thead>\n",
       "    <tr style=\"text-align: right;\">\n",
       "      <th></th>\n",
       "      <th>claim_id</th>\n",
       "      <th>part</th>\n",
       "      <th>urr_score</th>\n",
       "      <th>set</th>\n",
       "      <th>operation</th>\n",
       "    </tr>\n",
       "  </thead>\n",
       "  <tbody>\n",
       "    <tr>\n",
       "      <th>0</th>\n",
       "      <td>0</td>\n",
       "      <td>fbumper</td>\n",
       "      <td>0.464102</td>\n",
       "      <td>0</td>\n",
       "      <td>undamaged</td>\n",
       "    </tr>\n",
       "    <tr>\n",
       "      <th>1</th>\n",
       "      <td>0</td>\n",
       "      <td>bbumper</td>\n",
       "      <td>0.680342</td>\n",
       "      <td>0</td>\n",
       "      <td>replace</td>\n",
       "    </tr>\n",
       "    <tr>\n",
       "      <th>2</th>\n",
       "      <td>0</td>\n",
       "      <td>blwing</td>\n",
       "      <td>0.899217</td>\n",
       "      <td>0</td>\n",
       "      <td>undamaged</td>\n",
       "    </tr>\n",
       "    <tr>\n",
       "      <th>3</th>\n",
       "      <td>1</td>\n",
       "      <td>bbumper</td>\n",
       "      <td>0.790558</td>\n",
       "      <td>0</td>\n",
       "      <td>replace</td>\n",
       "    </tr>\n",
       "    <tr>\n",
       "      <th>4</th>\n",
       "      <td>1</td>\n",
       "      <td>bldoor</td>\n",
       "      <td>0.050809</td>\n",
       "      <td>0</td>\n",
       "      <td>repair</td>\n",
       "    </tr>\n",
       "    <tr>\n",
       "      <th>5</th>\n",
       "      <td>1</td>\n",
       "      <td>fldoor</td>\n",
       "      <td>0.085575</td>\n",
       "      <td>0</td>\n",
       "      <td>undamaged</td>\n",
       "    </tr>\n",
       "    <tr>\n",
       "      <th>6</th>\n",
       "      <td>1</td>\n",
       "      <td>blwing</td>\n",
       "      <td>0.979714</td>\n",
       "      <td>0</td>\n",
       "      <td>replace</td>\n",
       "    </tr>\n",
       "    <tr>\n",
       "      <th>7</th>\n",
       "      <td>2</td>\n",
       "      <td>fbumper</td>\n",
       "      <td>0.599913</td>\n",
       "      <td>0</td>\n",
       "      <td>replace</td>\n",
       "    </tr>\n",
       "    <tr>\n",
       "      <th>8</th>\n",
       "      <td>2</td>\n",
       "      <td>bbumper</td>\n",
       "      <td>0.645391</td>\n",
       "      <td>0</td>\n",
       "      <td>undamaged</td>\n",
       "    </tr>\n",
       "    <tr>\n",
       "      <th>9</th>\n",
       "      <td>2</td>\n",
       "      <td>bldoor</td>\n",
       "      <td>0.331490</td>\n",
       "      <td>0</td>\n",
       "      <td>undamaged</td>\n",
       "    </tr>\n",
       "  </tbody>\n",
       "</table>\n",
       "</div>"
      ],
      "text/plain": [
       "   claim_id     part  urr_score  set  operation\n",
       "0         0  fbumper   0.464102    0  undamaged\n",
       "1         0  bbumper   0.680342    0    replace\n",
       "2         0   blwing   0.899217    0  undamaged\n",
       "3         1  bbumper   0.790558    0    replace\n",
       "4         1   bldoor   0.050809    0     repair\n",
       "5         1   fldoor   0.085575    0  undamaged\n",
       "6         1   blwing   0.979714    0    replace\n",
       "7         2  fbumper   0.599913    0    replace\n",
       "8         2  bbumper   0.645391    0  undamaged\n",
       "9         2   bldoor   0.331490    0  undamaged"
      ]
     },
     "execution_count": 105,
     "metadata": {},
     "output_type": "execute_result"
    }
   ],
   "source": [
    "data.head(10)"
   ]
  },
  {
   "cell_type": "markdown",
   "metadata": {},
   "source": [
    "#### Checking for dataset imbalance"
   ]
  },
  {
   "cell_type": "code",
   "execution_count": 12,
   "metadata": {},
   "outputs": [
    {
     "name": "stdout",
     "output_type": "stream",
     "text": [
      "undamaged: 72.0%\n",
      "repair: 19.3%\n",
      "replace: 8.7%\n"
     ]
    },
    {
     "data": {
      "text/plain": [
       "<AxesSubplot:ylabel='operation'>"
      ]
     },
     "execution_count": 12,
     "metadata": {},
     "output_type": "execute_result"
    },
    {
     "data": {
      "image/png": "[encoded data removed]",
      "text/plain": [
       "<Figure size 432x288 with 1 Axes>"
      ]
     },
     "metadata": {},
     "output_type": "display_data"
    }
   ],
   "source": [
    "class_count = data[\"operation\"].value_counts()\n",
    "for op, count in class_count.items():\n",
    "    print(f\"{op}: {round(count/sum(class_count.values), 3)*100}%\")\n",
    "class_count.plot(kind=\"pie\", legend=True)"
   ]
  },
  {
   "cell_type": "code",
   "execution_count": 15,
   "metadata": {},
   "outputs": [],
   "source": [
    "# constant for number of classes\n",
    "N_CLASSES = len(data[\"operation\"].unique())"
   ]
  },
  {
   "cell_type": "code",
   "execution_count": 16,
   "metadata": {},
   "outputs": [],
   "source": [
    "# creating a mapping from category (e.g \"undamaged\") to label (e.g. 0) and the reverse mapping of that to map back\n",
    "CAT_TO_LABELS = {}\n",
    "for category, label in enumerate(class_count.keys()):\n",
    "    CAT_TO_LABELS[category] = label\n",
    "    \n",
    "LABELS_TO_CAT = {label: category for category, label in CAT_TO_LABELS.items()}"
   ]
  },
  {
   "cell_type": "markdown",
   "metadata": {},
   "source": [
    "## Task 2\n",
    "Analyse the performance of the classifiers (expected content in hand-in: code, 2-5 bullet-points and 1-3 tables/figures)\n",
    "\n",
    "### Answer:\n",
    "- Because we don't have the threshold yet, we can use either ROC or Precision-Recall curves to analyse how the classifier performed for different thresholds\n",
    "- We will use the Precision-Recall curve because as seen in the cell above, we have an imbalanced dataset (72.0% - 19.3% - 8.7%)\n",
    "- We have to use a multiclass Precision-Recall curve as there are 3 classes. We convert this into a binary task by treating each class in a one-vs-rest manner.\n",
    "\n",
    "- The way I am approaching this task is:\n",
    "    - Given a list of URR scores\n",
    "    - For each class (undamaged, repair, replace) we are going through all the URR scores\n",
    "    - For each URR score we are saying: If this is the boundary for this class, what would be the precision, recall, f1 score and precision/recall AUC?\n",
    "        - That means, for each threshold we are calculating the precision and recall of predictions with score >= threshold\n",
    "    - By looking at the precision recall curve and the AUC score we can evaluate the classifiers performance without knowing the threshold"
   ]
  },
  {
   "cell_type": "code",
   "execution_count": 18,
   "metadata": {},
   "outputs": [],
   "source": [
    "# split the dataset into train, val and test set\n",
    "train_data = data[data[\"set\"] == 0]\n",
    "val_data   = data[data[\"set\"] == 1]\n",
    "test_data  = data[data[\"set\"] == 2]"
   ]
  },
  {
   "cell_type": "code",
   "execution_count": 19,
   "metadata": {},
   "outputs": [],
   "source": [
    "def plot_multiclass_pr(y_pred, y_test, n_classes, figsize=(10, 8), labels={}):\n",
    "    \"\"\" Given a list of prediction scores y_pred and ground truth classes y_test, this function plots the Precision Recall curve for each class. \"\"\"\n",
    "    precision = {}\n",
    "    recall = {}\n",
    "    f_1_score = {}\n",
    "    thresholds = {}\n",
    "    pr_auc = {}\n",
    "    no_skill = {}\n",
    "\n",
    "    y_test = pd.get_dummies(y_test, drop_first=False).values\n",
    "    for i in range(n_classes):\n",
    "        precision[i], recall[i], thresholds[i] = precision_recall_curve(y_test[:, i], y_pred)\n",
    "        f_1_score[i] =  (2 * precision[i] * recall[i]) / (precision[i] + recall[i] + 1e-10)\n",
    "        pr_auc[i] = auc(recall[i], precision[i])\n",
    "        no_skill[i] = np.count_nonzero(y_test[:, 0] == 1) / len(y_test)\n",
    "        \n",
    "    fig, ax = plt.subplots(figsize=figsize)\n",
    "    ax.set_xlabel('Recall')\n",
    "    ax.set_ylabel('Precision')\n",
    "    ax.set_title('Precision Recall curve')\n",
    "    for i in range(n_classes):\n",
    "        best_f1_index = np.argmax(f_1_score[i])\n",
    "        print(f\"Best threshold for label {labels.get(i, i)}: {thresholds[i][best_f1_index]}\")\n",
    "        ax.plot(recall[i], precision[i], \n",
    "                label=f'PR curve (area = {round(pr_auc[i], 2)}) for label {labels.get(i, i)}')\n",
    "        ax.scatter(recall[i][best_f1_index], precision[i][best_f1_index], s=100, marker=(5, 1), \n",
    "                   label=f'Best F1 score ({round(f_1_score[i][best_f1_index], 2)}) for label {labels.get(i, i)}')\n",
    "        ax.plot([0, 1], [no_skill[i], no_skill[i]], linestyle='--')\n",
    "    ax.legend(loc=\"best\")\n",
    "    ax.grid(alpha=.4)\n",
    "    plt.show()"
   ]
  },
  {
   "cell_type": "markdown",
   "metadata": {},
   "source": [
    "### Train data"
   ]
  },
  {
   "cell_type": "code",
   "execution_count": 20,
   "metadata": {},
   "outputs": [
    {
     "name": "stdout",
     "output_type": "stream",
     "text": [
      "Best threshold for label undamaged: 0.2964361011981964\n",
      "Best threshold for label repair: 0.5995489954948425\n",
      "Best threshold for label replace: 1.1920928955078125e-07\n"
     ]
    },
    {
     "data": {
      "image/png": "[encoded data removed]",
      "text/plain": [
       "<Figure size 720x576 with 1 Axes>"
      ]
     },
     "metadata": {
      "needs_background": "light"
     },
     "output_type": "display_data"
    }
   ],
   "source": [
    "plot_multiclass_pr(y_pred=train_data[\"urr_score\"].values, \n",
    "                   y_test=train_data[\"operation\"], \n",
    "                   n_classes=N_CLASSES,\n",
    "                   labels=CAT_TO_LABELS)"
   ]
  },
  {
   "cell_type": "markdown",
   "metadata": {},
   "source": [
    "### Validation data"
   ]
  },
  {
   "cell_type": "code",
   "execution_count": 21,
   "metadata": {},
   "outputs": [
    {
     "name": "stdout",
     "output_type": "stream",
     "text": [
      "Best threshold for label undamaged: 0.30303314328193665\n",
      "Best threshold for label repair: 0.575984001159668\n",
      "Best threshold for label replace: 2.5033950805664062e-06\n"
     ]
    },
    {
     "data": {
      "image/png": "[encoded data removed]",
      "text/plain": [
       "<Figure size 720x576 with 1 Axes>"
      ]
     },
     "metadata": {
      "needs_background": "light"
     },
     "output_type": "display_data"
    }
   ],
   "source": [
    "plot_multiclass_pr(y_pred=val_data[\"urr_score\"].values, \n",
    "                   y_test=val_data[\"operation\"], \n",
    "                   n_classes=N_CLASSES,\n",
    "                   labels=CAT_TO_LABELS)"
   ]
  },
  {
   "cell_type": "markdown",
   "metadata": {},
   "source": [
    "### Test data"
   ]
  },
  {
   "cell_type": "code",
   "execution_count": 22,
   "metadata": {},
   "outputs": [
    {
     "name": "stdout",
     "output_type": "stream",
     "text": [
      "Best threshold for label undamaged: 0.2887547314167023\n",
      "Best threshold for label repair: 0.571759045124054\n",
      "Best threshold for label replace: 2.384185791015625e-07\n"
     ]
    },
    {
     "data": {
      "image/png": "[encoded data removed]",
      "text/plain": [
       "<Figure size 720x576 with 1 Axes>"
      ]
     },
     "metadata": {
      "needs_background": "light"
     },
     "output_type": "display_data"
    }
   ],
   "source": [
    "plot_multiclass_pr(y_pred=test_data[\"urr_score\"].values, \n",
    "                   y_test=test_data[\"operation\"], \n",
    "                   n_classes=N_CLASSES,\n",
    "                   labels=CAT_TO_LABELS)"
   ]
  },
  {
   "cell_type": "markdown",
   "metadata": {},
   "source": [
    "## Task 3\n",
    "Find the optimum thresholds to distinguish the undamaged/repair/replace classes. You are free to choose any objective here (accuracy, true positive rate, etc.) but make sure to justify your choice, and that the justification is sensible (expected content in hand-in: code, 2-5 bullet-points and 1-3 tables/figures)\n",
    "\n",
    "### Answer:\n",
    "\n",
    "#### Choosing the objective to optimize for\n",
    "- Accuracy wouldn't be a good choice here as we have an imbalanced dataset (we could already get 72% out of the box just by always predicting \"undamaged\")\n",
    "- When the dataset is skewed it is usually a good idea to go for Precision and Recall or F1 score\n",
    "- We decided to go for the F1 score as a combined metric of Precision and Recall\n",
    "    - This is party due to a lack of domain knowledge. If we knew that for example that it's really important to get all \"replace\" cases at any cost we would've chosen Precision and Recall with the best possible tradeoff\n",
    "- Because we have a multiclass dataset we calculate our F1 scores as a one-vs-rest for each class, hence we have 3 scores (one per class)\n",
    "- We decide to use the \"weighted\" average of the 3 scores because it takes the class imbalance into account\n",
    "\n",
    "\n",
    "#### Finding the optimum threshold\n",
    "- First we use scipy's fmin optimizer to minimize the (reversed) F1 score which gives us the best possible threshold\n",
    "- Secondly we show how we could also plug a simple Logistic Regression model on top of our URR scores to get the classes (this doesn't give us the thresholds though)\n",
    "- The fmin optimization method performs better, achieving a F1 score of 0.7184 while the (not optimized) Logistic Regression got 0.6607 on the test set"
   ]
  },
  {
   "cell_type": "code",
   "execution_count": 24,
   "metadata": {},
   "outputs": [],
   "source": [
    "def get_y_true_and_scores(data):\n",
    "    \"\"\" Retrieve the true classes and the predicted URR score for a given dataset. \"\"\"\n",
    "    y_true = np.where(data[\"operation\"] == \"replace\", 2, np.where(data[\"operation\"] == \"repair\", 1, 0))\n",
    "    y_scores = data['urr_score'].values\n",
    "    return y_true, y_scores"
   ]
  },
  {
   "cell_type": "code",
   "execution_count": 25,
   "metadata": {},
   "outputs": [],
   "source": [
    "def get_y_pred_w_threshold(y_scores, threshold):\n",
    "    \"\"\" Apply a given threshold to y_scores to turn it into a list of predictions. \"\"\"\n",
    "    return np.where(y_scores > threshold[1], 2, np.where(y_scores > threshold[0], 1, 0))"
   ]
  },
  {
   "cell_type": "markdown",
   "metadata": {},
   "source": [
    "### Using scipy's optimizer"
   ]
  },
  {
   "cell_type": "code",
   "execution_count": 26,
   "metadata": {},
   "outputs": [],
   "source": [
    "# use the training and validation data for tuning\n",
    "y_true_train, y_scores_train = get_y_true_and_scores(train_data.append(val_data))\n",
    "y_true_test, y_scores_test = get_y_true_and_scores(test_data)"
   ]
  },
  {
   "cell_type": "code",
   "execution_count": 83,
   "metadata": {},
   "outputs": [],
   "source": [
    "def threshold_to_f1(threshold, y_true, y_scores, average=\"weighted\"):\n",
    "    \"\"\" This function first calculates the class predictions given a list of predicted URR scores by applying the given threshold. It then returns the F1 score. \"\"\"\n",
    "    y_pred = get_y_pred_w_threshold(y_scores, threshold)\n",
    "    return -f1_score(y_true, y_pred, average=average)"
   ]
  },
  {
   "cell_type": "markdown",
   "metadata": {},
   "source": [
    "#### Training"
   ]
  },
  {
   "cell_type": "code",
   "execution_count": null,
   "metadata": {},
   "outputs": [],
   "source": [
    "best_thr = scipy.optimize.fmin(threshold_to_f1, args=(y_true_train, y_scores_train), x0=[0.1, 0.9])\n",
    "print(f\"Best threshold: {best_thr}\")"
   ]
  },
  {
   "cell_type": "markdown",
   "metadata": {},
   "source": [
    "#### Evaluation"
   ]
  },
  {
   "cell_type": "code",
   "execution_count": 30,
   "metadata": {},
   "outputs": [
    {
     "name": "stdout",
     "output_type": "stream",
     "text": [
      "Precision: 0.7228\n",
      "Recall:    0.7146\n",
      "F1 Score:  0.7184\n"
     ]
    }
   ],
   "source": [
    "y_pred_test = get_y_pred_w_threshold(y_scores_test, best_thr)\n",
    "\n",
    "precision, recall, f_1_score, _ = precision_recall_fscore_support(y_true_test, y_pred_test, average=\"weighted\")\n",
    "print(f\"Precision: {round(precision, 4)}\\nRecall:    {round(recall, 4)}\\nF1 Score:  {round(f_1_score, 4)}\")"
   ]
  },
  {
   "cell_type": "markdown",
   "metadata": {},
   "source": [
    "#### Confusion Matrix"
   ]
  },
  {
   "cell_type": "code",
   "execution_count": 67,
   "metadata": {},
   "outputs": [
    {
     "data": {
      "text/plain": [
       "<AxesSubplot:>"
      ]
     },
     "execution_count": 67,
     "metadata": {},
     "output_type": "execute_result"
    },
    {
     "data": {
      "image/png": "[encoded data removed]",
      "text/plain": [
       "<Figure size 720x504 with 2 Axes>"
      ]
     },
     "metadata": {
      "needs_background": "light"
     },
     "output_type": "display_data"
    }
   ],
   "source": [
    "cm = confusion_matrix(y_true_test, y_pred_test)\n",
    "plt.figure(figsize = (10,7))\n",
    "sns.heatmap(cm, annot=True, cmap='Blues', fmt=\"g\", xticklabels=CAT_TO_LABELS.values(), yticklabels=CAT_TO_LABELS.values())"
   ]
  },
  {
   "cell_type": "markdown",
   "metadata": {},
   "source": [
    "### Logistic Regression\n",
    "- Here we are plugging the raw scores of the URR classfier into a Logistic Regression model\n",
    "- We are training the Logistic Regression model using the URR scores as input data and the corresponding class labels as testing data"
   ]
  },
  {
   "cell_type": "code",
   "execution_count": 68,
   "metadata": {},
   "outputs": [],
   "source": [
    "# Getting the training, validation and testing data\n",
    "y_train_lr, x_train_lr = get_y_true_and_scores(train_data)\n",
    "y_val_lr, x_val_lr = get_y_true_and_scores(val_data)\n",
    "y_test_lr, x_test_lr = get_y_true_and_scores(test_data)\n",
    "\n",
    "x_train_lr = x_train_lr.reshape(-1, 1)\n",
    "x_val_lr = x_val_lr.reshape(-1, 1)\n",
    "x_test_lr = x_test_lr.reshape(-1, 1)"
   ]
  },
  {
   "cell_type": "markdown",
   "metadata": {},
   "source": [
    "#### Training"
   ]
  },
  {
   "cell_type": "code",
   "execution_count": 69,
   "metadata": {},
   "outputs": [
    {
     "data": {
      "text/plain": [
       "0.7374365762188396"
      ]
     },
     "execution_count": 69,
     "metadata": {},
     "output_type": "execute_result"
    }
   ],
   "source": [
    "# Specifying the Logistic Regression model (we could use a grid search here to get better parameters)\n",
    "clf_lr = LogisticRegression(C=1.0, penalty='l2')\n",
    "clf_lr.fit(x_train_lr, y_train_lr)\n",
    "clf_lr.score(x_val_lr, y_val_lr)"
   ]
  },
  {
   "cell_type": "markdown",
   "metadata": {},
   "source": [
    "#### Evaluation"
   ]
  },
  {
   "cell_type": "code",
   "execution_count": 70,
   "metadata": {},
   "outputs": [
    {
     "name": "stdout",
     "output_type": "stream",
     "text": [
      "Precision: 0.6389\n",
      "Recall:    0.737\n",
      "F1 Score:  0.6607\n"
     ]
    }
   ],
   "source": [
    "y_pred_lr = clf_lr.predict(x_test_lr)\n",
    "precision, recall, f_1_score, _ = precision_recall_fscore_support(y_test_lr, y_pred_lr, average=\"weighted\")\n",
    "print(f\"Precision: {round(precision, 4)}\\nRecall:    {round(recall, 4)}\\nF1 Score:  {round(f_1_score, 4)}\")"
   ]
  },
  {
   "cell_type": "code",
   "execution_count": 71,
   "metadata": {},
   "outputs": [
    {
     "data": {
      "text/plain": [
       "array([-0.6281683 , -0.03378587,  0.66195417])"
      ]
     },
     "execution_count": 71,
     "metadata": {},
     "output_type": "execute_result"
    }
   ],
   "source": [
    "# Computing one example manually\n",
    "example_calculation = (clf_lr.coef_ * x_test_lr[0]).T + clf_lr.intercept_\n",
    "example_calculation[0]"
   ]
  },
  {
   "cell_type": "code",
   "execution_count": 72,
   "metadata": {},
   "outputs": [
    {
     "name": "stdout",
     "output_type": "stream",
     "text": [
      "Predicted class: 2\n",
      "Actual class:    2\n"
     ]
    }
   ],
   "source": [
    "print(f\"Predicted class: {np.argmax(example_calculation[0])}\\nActual class:    {y_pred_lr[0]}\")"
   ]
  },
  {
   "cell_type": "code",
   "execution_count": 73,
   "metadata": {},
   "outputs": [
    {
     "data": {
      "text/plain": [
       "(array([[-4.82921036],\n",
       "        [-0.59824156],\n",
       "        [ 5.42745193]]),\n",
       " array([ 3.1374188 ,  0.43269426, -3.57011306]))"
      ]
     },
     "execution_count": 73,
     "metadata": {},
     "output_type": "execute_result"
    }
   ],
   "source": [
    "clf_lr.coef_, clf_lr.intercept_"
   ]
  },
  {
   "cell_type": "markdown",
   "metadata": {},
   "source": [
    "#### Confusion matrix"
   ]
  },
  {
   "cell_type": "code",
   "execution_count": 76,
   "metadata": {},
   "outputs": [
    {
     "data": {
      "text/plain": [
       "<AxesSubplot:>"
      ]
     },
     "execution_count": 76,
     "metadata": {},
     "output_type": "execute_result"
    },
    {
     "data": {
      "image/png": "[encoded data removed]",
      "text/plain": [
       "<Figure size 720x504 with 2 Axes>"
      ]
     },
     "metadata": {
      "needs_background": "light"
     },
     "output_type": "display_data"
    }
   ],
   "source": [
    "cm = confusion_matrix(y_test_lr, y_pred_lr)\n",
    "plt.figure(figsize = (10,7))\n",
    "sns.heatmap(cm, annot=True, cmap='Blues', fmt=\"g\", xticklabels=CAT_TO_LABELS.values(), yticklabels=CAT_TO_LABELS.values())"
   ]
  },
  {
   "cell_type": "markdown",
   "metadata": {},
   "source": [
    "# Part 2"
   ]
  },
  {
   "cell_type": "markdown",
   "metadata": {},
   "source": [
    "- discuss how to take this solution closer to something that could be used live"
   ]
  },
  {
   "cell_type": "markdown",
   "metadata": {},
   "source": [
    "## ~~Task 4~~~\n",
    "- discuss ways you would scale your code to ingest more data, i.e. of the order of millions (expected content in hand-in: 2-5 bullet-points)\n",
    "\n",
    "### Answer:\n",
    "- use Spark instead of Pandas"
   ]
  },
  {
   "cell_type": "code",
   "execution_count": null,
   "metadata": {},
   "outputs": [],
   "source": []
  },
  {
   "cell_type": "markdown",
   "metadata": {},
   "source": [
    "## ~~Task 5~~~\n",
    "- discuss ways you would further improve the performance of the classifiers if you had more time (expected content in hand-in: 2-5 bullet-points)"
   ]
  },
  {
   "cell_type": "code",
   "execution_count": null,
   "metadata": {},
   "outputs": [],
   "source": []
  },
  {
   "cell_type": "markdown",
   "metadata": {},
   "source": [
    "## Task 6\n",
    "- predict the cost of performing the operations for a particular claim as a function of the URR scores and the claim data\n",
    "- How would you design a system that can predict these costs? \n",
    "- Which metadata fields would you use? \n",
    "- Would you also require any additional data (not provided in the data dump) that will help you improve the accuracy of your estimate? \n",
    "(expected content in hand-in: 5-10 bullet-points)\n",
    "\n",
    "### Answer:\n",
    "\n",
    "#### Designing a system to predict the costs\n",
    "- The model would take the URR scores as well as certain metadata fields as its input data\n",
    "    - $f(URR\\_scores, make, model, year, poi) = cost\\_of\\_operation$\n",
    "- We would need a regression model\n",
    "    - Popular choices include: linear regression, regression trees, random forest, xgboost, support vector regression, neural network\n",
    "- \"labour_amt\" would be the target column (it wasn't clear from the description if it's only \"labour_amt\" but I would assume it is because \"part_price\" could be done via a lookup table)\n",
    "    - If the target columns are both \"labour_amt\" and \"part_price\" we could train a model for each or predict the two with the same model (I would choose to do the latter because there is a lot of overlap in the parameters that are relevant)\n",
    "- Because both fields can get quite large, we would normalize them (\"learn\" mean and variance from train set and apply to val and test set to avoid data leakage)\n",
    "    - We can then use the mean and variance to reverse the normalization to get our actual values to generate our report\n",
    "\n",
    "\n",
    "#### Metadata fields\n",
    "- To choose which metadata fields would be useful we would check which fields are most correlated to the \"part_price\" and \"labour_amount\" (example for \"make\" below)\n",
    "    - If a field (feature) shows close to 0 correlation, it's probably useless\n",
    "- My intuition tells me that there is probably some correlation between the \"make\" and \"model\" of a car to how much it will cost to repair/replace it, e.g. crashing the trunk of a Tesla is most likely more expensive than crashing the trunk of a Fiat.\n",
    "- There will also probably be a correlation between \"poi\" and the final price, e.g. fixing the door is more expensive than fixing the back bumper\n",
    "    \n",
    "\n",
    "#### Feature engineering\n",
    "- If we use a linear regression of neural net:\n",
    "    - Once we have chosen the metadata fields we would need to one-hot-encode our features \"make\", \"model\", \"poi\"\n",
    "        - It wouldn't make sense to label encode them because there is no particular order in any of them\n",
    "        - Because one-hot-encoding will result in a very sparse input vector, we could try out other encoding methods like target encoding or count encoding (target makes more sense here)\n",
    "    - I would also convert year into a numerical representation. I can imagine \"age\" would work well as the parts and labour might get more expensive the older the car is because parts might be more rare. It wouldn't be the amount of years the car has been driven but rather the amount of years since it has been first released.\n",
    "        - The problem we run into here is that if we use (current_year - build_year) as our definition of age, it changes every year and we'd have to retrain our model at least on a yearly basis\n",
    "        - As an alternative we could again, try the target encoding\n",
    "- If we use a decision tree we don't need to worry as much about encoding the categorical variables as DTs can handle them quite well\n",
    "\n",
    "\n",
    "#### Additional data\n",
    "- It would help to know the country and perhaps even region of the accident, e.g. companies in London will charge more than in Fordwich (which, as of 2011 has 381 inhabitants)\n",
    "    \n",
    " \n",
    "#### Process\n",
    "- Find a simple baseline (to assure the model is learning something), we could just take something like average cost per part or per make\n",
    "- Build a simple ML model to beat the baseline (to confirm that ML is even useful for this task)\n",
    "- Overfit our model (add (bigger) layers, train longer, use bigger model)\n",
    "- Apply regularization methods and tune hyperparameters (dropout, different architectures, more data, regularization methods)"
   ]
  },
  {
   "cell_type": "code",
   "execution_count": 77,
   "metadata": {},
   "outputs": [
    {
     "data": {
      "text/html": [
       "<div>\n",
       "<style scoped>\n",
       "    .dataframe tbody tr th:only-of-type {\n",
       "        vertical-align: middle;\n",
       "    }\n",
       "\n",
       "    .dataframe tbody tr th {\n",
       "        vertical-align: top;\n",
       "    }\n",
       "\n",
       "    .dataframe thead th {\n",
       "        text-align: right;\n",
       "    }\n",
       "</style>\n",
       "<table border=\"1\" class=\"dataframe\">\n",
       "  <thead>\n",
       "    <tr style=\"text-align: right;\">\n",
       "      <th></th>\n",
       "      <th>claim_id</th>\n",
       "      <th>make</th>\n",
       "      <th>model</th>\n",
       "      <th>year</th>\n",
       "      <th>poi</th>\n",
       "      <th>line_num</th>\n",
       "      <th>part</th>\n",
       "      <th>operation</th>\n",
       "      <th>part_price</th>\n",
       "      <th>labour_amt</th>\n",
       "    </tr>\n",
       "  </thead>\n",
       "  <tbody>\n",
       "    <tr>\n",
       "      <th>0</th>\n",
       "      <td>0</td>\n",
       "      <td>Volkswagen</td>\n",
       "      <td>Tiguan</td>\n",
       "      <td>2010.0</td>\n",
       "      <td>Rear Centre</td>\n",
       "      <td>1</td>\n",
       "      <td>bbumper</td>\n",
       "      <td>replace</td>\n",
       "      <td>266.600006</td>\n",
       "      <td>110.000005</td>\n",
       "    </tr>\n",
       "    <tr>\n",
       "      <th>1</th>\n",
       "      <td>1</td>\n",
       "      <td>Peugeot</td>\n",
       "      <td>307</td>\n",
       "      <td>2003.0</td>\n",
       "      <td>Rear Left</td>\n",
       "      <td>1</td>\n",
       "      <td>bbumper</td>\n",
       "      <td>replace</td>\n",
       "      <td>308.920013</td>\n",
       "      <td>55.000002</td>\n",
       "    </tr>\n",
       "    <tr>\n",
       "      <th>2</th>\n",
       "      <td>1</td>\n",
       "      <td>Peugeot</td>\n",
       "      <td>307</td>\n",
       "      <td>2003.0</td>\n",
       "      <td>Rear Left</td>\n",
       "      <td>2</td>\n",
       "      <td>bldoor</td>\n",
       "      <td>repair</td>\n",
       "      <td>NaN</td>\n",
       "      <td>55.000001</td>\n",
       "    </tr>\n",
       "    <tr>\n",
       "      <th>3</th>\n",
       "      <td>1</td>\n",
       "      <td>Peugeot</td>\n",
       "      <td>307</td>\n",
       "      <td>2003.0</td>\n",
       "      <td>Rear Left</td>\n",
       "      <td>3</td>\n",
       "      <td>blwing</td>\n",
       "      <td>replace</td>\n",
       "      <td>337.709991</td>\n",
       "      <td>114.999998</td>\n",
       "    </tr>\n",
       "    <tr>\n",
       "      <th>4</th>\n",
       "      <td>2</td>\n",
       "      <td>Volkswagen</td>\n",
       "      <td>Vw</td>\n",
       "      <td>2007.0</td>\n",
       "      <td>Front Centre</td>\n",
       "      <td>1</td>\n",
       "      <td>fbumper</td>\n",
       "      <td>replace</td>\n",
       "      <td>294.000000</td>\n",
       "      <td>115.000007</td>\n",
       "    </tr>\n",
       "    <tr>\n",
       "      <th>...</th>\n",
       "      <td>...</td>\n",
       "      <td>...</td>\n",
       "      <td>...</td>\n",
       "      <td>...</td>\n",
       "      <td>...</td>\n",
       "      <td>...</td>\n",
       "      <td>...</td>\n",
       "      <td>...</td>\n",
       "      <td>...</td>\n",
       "      <td>...</td>\n",
       "    </tr>\n",
       "    <tr>\n",
       "      <th>199822</th>\n",
       "      <td>99996</td>\n",
       "      <td>Volkswagen</td>\n",
       "      <td>Polo</td>\n",
       "      <td>2011.0</td>\n",
       "      <td>Rear Centre</td>\n",
       "      <td>2</td>\n",
       "      <td>blwing</td>\n",
       "      <td>repair</td>\n",
       "      <td>NaN</td>\n",
       "      <td>410.000002</td>\n",
       "    </tr>\n",
       "    <tr>\n",
       "      <th>199823</th>\n",
       "      <td>99997</td>\n",
       "      <td>Citroen</td>\n",
       "      <td>C5</td>\n",
       "      <td>2009.0</td>\n",
       "      <td>Front Right</td>\n",
       "      <td>1</td>\n",
       "      <td>fbumper</td>\n",
       "      <td>repair</td>\n",
       "      <td>NaN</td>\n",
       "      <td>70.000002</td>\n",
       "    </tr>\n",
       "    <tr>\n",
       "      <th>199824</th>\n",
       "      <td>99997</td>\n",
       "      <td>Citroen</td>\n",
       "      <td>C5</td>\n",
       "      <td>2009.0</td>\n",
       "      <td>Front Right</td>\n",
       "      <td>2</td>\n",
       "      <td>frwing</td>\n",
       "      <td>repair</td>\n",
       "      <td>NaN</td>\n",
       "      <td>130.000001</td>\n",
       "    </tr>\n",
       "    <tr>\n",
       "      <th>199825</th>\n",
       "      <td>99998</td>\n",
       "      <td>Citroen</td>\n",
       "      <td>Saxo</td>\n",
       "      <td>2002.0</td>\n",
       "      <td>NaN</td>\n",
       "      <td>1</td>\n",
       "      <td>bbumper</td>\n",
       "      <td>replace</td>\n",
       "      <td>183.279999</td>\n",
       "      <td>60.000002</td>\n",
       "    </tr>\n",
       "    <tr>\n",
       "      <th>199826</th>\n",
       "      <td>99999</td>\n",
       "      <td>Seat</td>\n",
       "      <td>Exeo</td>\n",
       "      <td>2009.0</td>\n",
       "      <td>Rear Right</td>\n",
       "      <td>1</td>\n",
       "      <td>bbumper</td>\n",
       "      <td>replace</td>\n",
       "      <td>316.350006</td>\n",
       "      <td>75.000000</td>\n",
       "    </tr>\n",
       "  </tbody>\n",
       "</table>\n",
       "<p>199827 rows × 10 columns</p>\n",
       "</div>"
      ],
      "text/plain": [
       "        claim_id        make   model    year           poi  line_num     part  \\\n",
       "0              0  Volkswagen  Tiguan  2010.0   Rear Centre         1  bbumper   \n",
       "1              1     Peugeot     307  2003.0     Rear Left         1  bbumper   \n",
       "2              1     Peugeot     307  2003.0     Rear Left         2   bldoor   \n",
       "3              1     Peugeot     307  2003.0     Rear Left         3   blwing   \n",
       "4              2  Volkswagen      Vw  2007.0  Front Centre         1  fbumper   \n",
       "...          ...         ...     ...     ...           ...       ...      ...   \n",
       "199822     99996  Volkswagen    Polo  2011.0   Rear Centre         2   blwing   \n",
       "199823     99997     Citroen      C5  2009.0   Front Right         1  fbumper   \n",
       "199824     99997     Citroen      C5  2009.0   Front Right         2   frwing   \n",
       "199825     99998     Citroen    Saxo  2002.0           NaN         1  bbumper   \n",
       "199826     99999        Seat    Exeo  2009.0    Rear Right         1  bbumper   \n",
       "\n",
       "       operation  part_price  labour_amt  \n",
       "0        replace  266.600006  110.000005  \n",
       "1        replace  308.920013   55.000002  \n",
       "2         repair         NaN   55.000001  \n",
       "3        replace  337.709991  114.999998  \n",
       "4        replace  294.000000  115.000007  \n",
       "...          ...         ...         ...  \n",
       "199822    repair         NaN  410.000002  \n",
       "199823    repair         NaN   70.000002  \n",
       "199824    repair         NaN  130.000001  \n",
       "199825   replace  183.279999   60.000002  \n",
       "199826   replace  316.350006   75.000000  \n",
       "\n",
       "[199827 rows x 10 columns]"
      ]
     },
     "execution_count": 77,
     "metadata": {},
     "output_type": "execute_result"
    }
   ],
   "source": [
    "metadata"
   ]
  },
  {
   "cell_type": "markdown",
   "metadata": {},
   "source": [
    "### Labour amount and Part Price for Volkswagen Tiguan (replace)"
   ]
  },
  {
   "cell_type": "code",
   "execution_count": 78,
   "metadata": {},
   "outputs": [
    {
     "name": "stdout",
     "output_type": "stream",
     "text": [
      "count     76.000000\n",
      "mean     144.013161\n",
      "std       84.632621\n",
      "min       40.000001\n",
      "25%      105.000002\n",
      "50%      125.000000\n",
      "75%      195.000005\n",
      "max      750.000036\n",
      "Name: labour_amt, dtype: float64\n"
     ]
    },
    {
     "data": {
      "text/html": [
       "<div>\n",
       "<style scoped>\n",
       "    .dataframe tbody tr th:only-of-type {\n",
       "        vertical-align: middle;\n",
       "    }\n",
       "\n",
       "    .dataframe tbody tr th {\n",
       "        vertical-align: top;\n",
       "    }\n",
       "\n",
       "    .dataframe thead th {\n",
       "        text-align: right;\n",
       "    }\n",
       "</style>\n",
       "<table border=\"1\" class=\"dataframe\">\n",
       "  <thead>\n",
       "    <tr style=\"text-align: right;\">\n",
       "      <th></th>\n",
       "      <th>make</th>\n",
       "      <th>model</th>\n",
       "      <th>year</th>\n",
       "      <th>poi</th>\n",
       "      <th>operation</th>\n",
       "      <th>part_price</th>\n",
       "      <th>labour_amt</th>\n",
       "    </tr>\n",
       "  </thead>\n",
       "  <tbody>\n",
       "    <tr>\n",
       "      <th>52728</th>\n",
       "      <td>Volkswagen</td>\n",
       "      <td>Tiguan</td>\n",
       "      <td>2007.0</td>\n",
       "      <td>Front Centre</td>\n",
       "      <td>replace</td>\n",
       "      <td>273.700012</td>\n",
       "      <td>125.000000</td>\n",
       "    </tr>\n",
       "    <tr>\n",
       "      <th>8505</th>\n",
       "      <td>Volkswagen</td>\n",
       "      <td>Tiguan</td>\n",
       "      <td>2008.0</td>\n",
       "      <td>Front Centre</td>\n",
       "      <td>replace</td>\n",
       "      <td>273.700012</td>\n",
       "      <td>135.000002</td>\n",
       "    </tr>\n",
       "    <tr>\n",
       "      <th>23511</th>\n",
       "      <td>Volkswagen</td>\n",
       "      <td>Tiguan</td>\n",
       "      <td>2008.0</td>\n",
       "      <td>Front Centre</td>\n",
       "      <td>replace</td>\n",
       "      <td>199.949997</td>\n",
       "      <td>150.000000</td>\n",
       "    </tr>\n",
       "    <tr>\n",
       "      <th>43078</th>\n",
       "      <td>Volkswagen</td>\n",
       "      <td>Tiguan</td>\n",
       "      <td>2008.0</td>\n",
       "      <td>Front Centre</td>\n",
       "      <td>replace</td>\n",
       "      <td>282.649994</td>\n",
       "      <td>110.000002</td>\n",
       "    </tr>\n",
       "    <tr>\n",
       "      <th>43079</th>\n",
       "      <td>Volkswagen</td>\n",
       "      <td>Tiguan</td>\n",
       "      <td>2008.0</td>\n",
       "      <td>Front Centre</td>\n",
       "      <td>replace</td>\n",
       "      <td>142.600006</td>\n",
       "      <td>85.000002</td>\n",
       "    </tr>\n",
       "    <tr>\n",
       "      <th>53054</th>\n",
       "      <td>Volkswagen</td>\n",
       "      <td>Tiguan</td>\n",
       "      <td>2008.0</td>\n",
       "      <td>Front Centre</td>\n",
       "      <td>replace</td>\n",
       "      <td>273.700012</td>\n",
       "      <td>125.000000</td>\n",
       "    </tr>\n",
       "    <tr>\n",
       "      <th>116772</th>\n",
       "      <td>Volkswagen</td>\n",
       "      <td>Tiguan</td>\n",
       "      <td>2008.0</td>\n",
       "      <td>Front Centre</td>\n",
       "      <td>replace</td>\n",
       "      <td>250.000000</td>\n",
       "      <td>150.000000</td>\n",
       "    </tr>\n",
       "    <tr>\n",
       "      <th>131505</th>\n",
       "      <td>Volkswagen</td>\n",
       "      <td>Tiguan</td>\n",
       "      <td>2008.0</td>\n",
       "      <td>Front Centre</td>\n",
       "      <td>replace</td>\n",
       "      <td>273.700012</td>\n",
       "      <td>110.000002</td>\n",
       "    </tr>\n",
       "    <tr>\n",
       "      <th>131506</th>\n",
       "      <td>Volkswagen</td>\n",
       "      <td>Tiguan</td>\n",
       "      <td>2008.0</td>\n",
       "      <td>Front Centre</td>\n",
       "      <td>replace</td>\n",
       "      <td>137.800003</td>\n",
       "      <td>85.000002</td>\n",
       "    </tr>\n",
       "    <tr>\n",
       "      <th>32941</th>\n",
       "      <td>Volkswagen</td>\n",
       "      <td>Tiguan</td>\n",
       "      <td>2008.0</td>\n",
       "      <td>Front Left</td>\n",
       "      <td>replace</td>\n",
       "      <td>273.700012</td>\n",
       "      <td>125.000000</td>\n",
       "    </tr>\n",
       "  </tbody>\n",
       "</table>\n",
       "</div>"
      ],
      "text/plain": [
       "              make   model    year           poi operation  part_price  \\\n",
       "52728   Volkswagen  Tiguan  2007.0  Front Centre   replace  273.700012   \n",
       "8505    Volkswagen  Tiguan  2008.0  Front Centre   replace  273.700012   \n",
       "23511   Volkswagen  Tiguan  2008.0  Front Centre   replace  199.949997   \n",
       "43078   Volkswagen  Tiguan  2008.0  Front Centre   replace  282.649994   \n",
       "43079   Volkswagen  Tiguan  2008.0  Front Centre   replace  142.600006   \n",
       "53054   Volkswagen  Tiguan  2008.0  Front Centre   replace  273.700012   \n",
       "116772  Volkswagen  Tiguan  2008.0  Front Centre   replace  250.000000   \n",
       "131505  Volkswagen  Tiguan  2008.0  Front Centre   replace  273.700012   \n",
       "131506  Volkswagen  Tiguan  2008.0  Front Centre   replace  137.800003   \n",
       "32941   Volkswagen  Tiguan  2008.0    Front Left   replace  273.700012   \n",
       "\n",
       "        labour_amt  \n",
       "52728   125.000000  \n",
       "8505    135.000002  \n",
       "23511   150.000000  \n",
       "43078   110.000002  \n",
       "43079    85.000002  \n",
       "53054   125.000000  \n",
       "116772  150.000000  \n",
       "131505  110.000002  \n",
       "131506   85.000002  \n",
       "32941   125.000000  "
      ]
     },
     "execution_count": 78,
     "metadata": {},
     "output_type": "execute_result"
    }
   ],
   "source": [
    "t = metadata[(metadata[\"make\"] == \"Volkswagen\") & \n",
    "             (metadata[\"model\"] == \"Tiguan\") & \n",
    "             (metadata[\"operation\"] == \"replace\")] \\\n",
    "            [[\"make\", \"model\", \"year\", \"poi\", \"operation\", \"part_price\", \"labour_amt\"]] \\\n",
    "            .dropna() \\\n",
    "            .sort_values(by=[\"year\", \"poi\"])\n",
    "\n",
    "print(t[\"labour_amt\"].describe())\n",
    "t.head(10)"
   ]
  },
  {
   "cell_type": "markdown",
   "metadata": {},
   "source": [
    "### Labour amount for Volkswagen Tiguan (repair)"
   ]
  },
  {
   "cell_type": "code",
   "execution_count": 79,
   "metadata": {},
   "outputs": [
    {
     "name": "stdout",
     "output_type": "stream",
     "text": [
      "count    281.000000\n",
      "mean     116.334521\n",
      "std       82.135006\n",
      "min       10.000000\n",
      "25%       45.000002\n",
      "50%       95.000002\n",
      "75%      160.000005\n",
      "max      469.999999\n",
      "Name: labour_amt, dtype: float64\n"
     ]
    },
    {
     "data": {
      "text/html": [
       "<div>\n",
       "<style scoped>\n",
       "    .dataframe tbody tr th:only-of-type {\n",
       "        vertical-align: middle;\n",
       "    }\n",
       "\n",
       "    .dataframe tbody tr th {\n",
       "        vertical-align: top;\n",
       "    }\n",
       "\n",
       "    .dataframe thead th {\n",
       "        text-align: right;\n",
       "    }\n",
       "</style>\n",
       "<table border=\"1\" class=\"dataframe\">\n",
       "  <thead>\n",
       "    <tr style=\"text-align: right;\">\n",
       "      <th></th>\n",
       "      <th>make</th>\n",
       "      <th>model</th>\n",
       "      <th>year</th>\n",
       "      <th>poi</th>\n",
       "      <th>operation</th>\n",
       "      <th>labour_amt</th>\n",
       "    </tr>\n",
       "  </thead>\n",
       "  <tbody>\n",
       "    <tr>\n",
       "      <th>118524</th>\n",
       "      <td>Volkswagen</td>\n",
       "      <td>Tiguan</td>\n",
       "      <td>2007.0</td>\n",
       "      <td>Rear Centre</td>\n",
       "      <td>repair</td>\n",
       "      <td>210.000005</td>\n",
       "    </tr>\n",
       "    <tr>\n",
       "      <th>701</th>\n",
       "      <td>Volkswagen</td>\n",
       "      <td>Tiguan</td>\n",
       "      <td>2008.0</td>\n",
       "      <td>Front Centre</td>\n",
       "      <td>repair</td>\n",
       "      <td>20.000000</td>\n",
       "    </tr>\n",
       "    <tr>\n",
       "      <th>702</th>\n",
       "      <td>Volkswagen</td>\n",
       "      <td>Tiguan</td>\n",
       "      <td>2008.0</td>\n",
       "      <td>Front Centre</td>\n",
       "      <td>repair</td>\n",
       "      <td>85.000002</td>\n",
       "    </tr>\n",
       "    <tr>\n",
       "      <th>703</th>\n",
       "      <td>Volkswagen</td>\n",
       "      <td>Tiguan</td>\n",
       "      <td>2008.0</td>\n",
       "      <td>Front Centre</td>\n",
       "      <td>repair</td>\n",
       "      <td>95.000002</td>\n",
       "    </tr>\n",
       "    <tr>\n",
       "      <th>8506</th>\n",
       "      <td>Volkswagen</td>\n",
       "      <td>Tiguan</td>\n",
       "      <td>2008.0</td>\n",
       "      <td>Front Centre</td>\n",
       "      <td>repair</td>\n",
       "      <td>95.000002</td>\n",
       "    </tr>\n",
       "    <tr>\n",
       "      <th>15853</th>\n",
       "      <td>Volkswagen</td>\n",
       "      <td>Tiguan</td>\n",
       "      <td>2008.0</td>\n",
       "      <td>Front Centre</td>\n",
       "      <td>repair</td>\n",
       "      <td>40.000001</td>\n",
       "    </tr>\n",
       "    <tr>\n",
       "      <th>15854</th>\n",
       "      <td>Volkswagen</td>\n",
       "      <td>Tiguan</td>\n",
       "      <td>2008.0</td>\n",
       "      <td>Front Centre</td>\n",
       "      <td>repair</td>\n",
       "      <td>40.000001</td>\n",
       "    </tr>\n",
       "    <tr>\n",
       "      <th>15855</th>\n",
       "      <td>Volkswagen</td>\n",
       "      <td>Tiguan</td>\n",
       "      <td>2008.0</td>\n",
       "      <td>Front Centre</td>\n",
       "      <td>repair</td>\n",
       "      <td>75.000000</td>\n",
       "    </tr>\n",
       "    <tr>\n",
       "      <th>15856</th>\n",
       "      <td>Volkswagen</td>\n",
       "      <td>Tiguan</td>\n",
       "      <td>2008.0</td>\n",
       "      <td>Front Centre</td>\n",
       "      <td>repair</td>\n",
       "      <td>40.000001</td>\n",
       "    </tr>\n",
       "    <tr>\n",
       "      <th>68062</th>\n",
       "      <td>Volkswagen</td>\n",
       "      <td>Tiguan</td>\n",
       "      <td>2008.0</td>\n",
       "      <td>Front Centre</td>\n",
       "      <td>repair</td>\n",
       "      <td>80.000001</td>\n",
       "    </tr>\n",
       "  </tbody>\n",
       "</table>\n",
       "</div>"
      ],
      "text/plain": [
       "              make   model    year           poi operation  labour_amt\n",
       "118524  Volkswagen  Tiguan  2007.0   Rear Centre    repair  210.000005\n",
       "701     Volkswagen  Tiguan  2008.0  Front Centre    repair   20.000000\n",
       "702     Volkswagen  Tiguan  2008.0  Front Centre    repair   85.000002\n",
       "703     Volkswagen  Tiguan  2008.0  Front Centre    repair   95.000002\n",
       "8506    Volkswagen  Tiguan  2008.0  Front Centre    repair   95.000002\n",
       "15853   Volkswagen  Tiguan  2008.0  Front Centre    repair   40.000001\n",
       "15854   Volkswagen  Tiguan  2008.0  Front Centre    repair   40.000001\n",
       "15855   Volkswagen  Tiguan  2008.0  Front Centre    repair   75.000000\n",
       "15856   Volkswagen  Tiguan  2008.0  Front Centre    repair   40.000001\n",
       "68062   Volkswagen  Tiguan  2008.0  Front Centre    repair   80.000001"
      ]
     },
     "execution_count": 79,
     "metadata": {},
     "output_type": "execute_result"
    }
   ],
   "source": [
    "t = metadata[(metadata[\"make\"] == \"Volkswagen\") & \n",
    "             (metadata[\"model\"] == \"Tiguan\") & \n",
    "             (metadata[\"operation\"] == \"repair\")] \\\n",
    "            [[\"make\", \"model\", \"year\",\t\"poi\", \"operation\", \"labour_amt\"]] \\\n",
    "            .dropna() \\\n",
    "            .sort_values(by=[\"year\", \"poi\"])\n",
    "\n",
    "print(t[\"labour_amt\"].describe())\n",
    "t.head(10)"
   ]
  },
  {
   "cell_type": "markdown",
   "metadata": {},
   "source": [
    "### Correlation between car make - part_price, labour_amount"
   ]
  },
  {
   "cell_type": "code",
   "execution_count": 80,
   "metadata": {},
   "outputs": [
    {
     "data": {
      "text/plain": [
       "0"
      ]
     },
     "execution_count": 80,
     "metadata": {},
     "output_type": "execute_result"
    }
   ],
   "source": [
    "metadata[\"model\"].isna().sum()"
   ]
  },
  {
   "cell_type": "code",
   "execution_count": 82,
   "metadata": {},
   "outputs": [
    {
     "data": {
      "text/html": [
       "<style  type=\"text/css\" >\n",
       "#T_014d047e_3fc6_11eb_a02b_acde48001122row0_col0,#T_014d047e_3fc6_11eb_a02b_acde48001122row1_col1,#T_014d047e_3fc6_11eb_a02b_acde48001122row2_col2,#T_014d047e_3fc6_11eb_a02b_acde48001122row3_col3,#T_014d047e_3fc6_11eb_a02b_acde48001122row4_col4,#T_014d047e_3fc6_11eb_a02b_acde48001122row5_col5,#T_014d047e_3fc6_11eb_a02b_acde48001122row6_col6,#T_014d047e_3fc6_11eb_a02b_acde48001122row7_col7,#T_014d047e_3fc6_11eb_a02b_acde48001122row8_col8,#T_014d047e_3fc6_11eb_a02b_acde48001122row9_col9{\n",
       "            background-color:  #b40426;\n",
       "            color:  #f1f1f1;\n",
       "        }#T_014d047e_3fc6_11eb_a02b_acde48001122row0_col1{\n",
       "            background-color:  #a6c4fe;\n",
       "            color:  #000000;\n",
       "        }#T_014d047e_3fc6_11eb_a02b_acde48001122row0_col2{\n",
       "            background-color:  #7da0f9;\n",
       "            color:  #000000;\n",
       "        }#T_014d047e_3fc6_11eb_a02b_acde48001122row0_col3{\n",
       "            background-color:  #4a63d3;\n",
       "            color:  #f1f1f1;\n",
       "        }#T_014d047e_3fc6_11eb_a02b_acde48001122row0_col4{\n",
       "            background-color:  #5977e3;\n",
       "            color:  #000000;\n",
       "        }#T_014d047e_3fc6_11eb_a02b_acde48001122row0_col5{\n",
       "            background-color:  #97b8ff;\n",
       "            color:  #000000;\n",
       "        }#T_014d047e_3fc6_11eb_a02b_acde48001122row0_col6{\n",
       "            background-color:  #7597f6;\n",
       "            color:  #000000;\n",
       "        }#T_014d047e_3fc6_11eb_a02b_acde48001122row0_col7,#T_014d047e_3fc6_11eb_a02b_acde48001122row1_col2{\n",
       "            background-color:  #6c8ff1;\n",
       "            color:  #000000;\n",
       "        }#T_014d047e_3fc6_11eb_a02b_acde48001122row0_col8,#T_014d047e_3fc6_11eb_a02b_acde48001122row2_col5{\n",
       "            background-color:  #5673e0;\n",
       "            color:  #000000;\n",
       "        }#T_014d047e_3fc6_11eb_a02b_acde48001122row0_col9,#T_014d047e_3fc6_11eb_a02b_acde48001122row5_col0{\n",
       "            background-color:  #7a9df8;\n",
       "            color:  #000000;\n",
       "        }#T_014d047e_3fc6_11eb_a02b_acde48001122row1_col0{\n",
       "            background-color:  #b6cefa;\n",
       "            color:  #000000;\n",
       "        }#T_014d047e_3fc6_11eb_a02b_acde48001122row1_col3,#T_014d047e_3fc6_11eb_a02b_acde48001122row8_col4,#T_014d047e_3fc6_11eb_a02b_acde48001122row8_col5,#T_014d047e_3fc6_11eb_a02b_acde48001122row8_col7{\n",
       "            background-color:  #5d7ce6;\n",
       "            color:  #000000;\n",
       "        }#T_014d047e_3fc6_11eb_a02b_acde48001122row1_col4,#T_014d047e_3fc6_11eb_a02b_acde48001122row1_col5,#T_014d047e_3fc6_11eb_a02b_acde48001122row2_col0{\n",
       "            background-color:  #7396f5;\n",
       "            color:  #000000;\n",
       "        }#T_014d047e_3fc6_11eb_a02b_acde48001122row1_col6,#T_014d047e_3fc6_11eb_a02b_acde48001122row1_col7{\n",
       "            background-color:  #6e90f2;\n",
       "            color:  #000000;\n",
       "        }#T_014d047e_3fc6_11eb_a02b_acde48001122row1_col8,#T_014d047e_3fc6_11eb_a02b_acde48001122row9_col0{\n",
       "            background-color:  #5b7ae5;\n",
       "            color:  #000000;\n",
       "        }#T_014d047e_3fc6_11eb_a02b_acde48001122row1_col9{\n",
       "            background-color:  #81a4fb;\n",
       "            color:  #000000;\n",
       "        }#T_014d047e_3fc6_11eb_a02b_acde48001122row2_col1,#T_014d047e_3fc6_11eb_a02b_acde48001122row3_col2,#T_014d047e_3fc6_11eb_a02b_acde48001122row9_col1{\n",
       "            background-color:  #4c66d6;\n",
       "            color:  #000000;\n",
       "        }#T_014d047e_3fc6_11eb_a02b_acde48001122row2_col3,#T_014d047e_3fc6_11eb_a02b_acde48001122row3_col9,#T_014d047e_3fc6_11eb_a02b_acde48001122row7_col0{\n",
       "            background-color:  #4e68d8;\n",
       "            color:  #000000;\n",
       "        }#T_014d047e_3fc6_11eb_a02b_acde48001122row2_col4,#T_014d047e_3fc6_11eb_a02b_acde48001122row2_col7,#T_014d047e_3fc6_11eb_a02b_acde48001122row3_col4,#T_014d047e_3fc6_11eb_a02b_acde48001122row3_col5,#T_014d047e_3fc6_11eb_a02b_acde48001122row3_col7{\n",
       "            background-color:  #5572df;\n",
       "            color:  #000000;\n",
       "        }#T_014d047e_3fc6_11eb_a02b_acde48001122row2_col6,#T_014d047e_3fc6_11eb_a02b_acde48001122row8_col0{\n",
       "            background-color:  #5470de;\n",
       "            color:  #000000;\n",
       "        }#T_014d047e_3fc6_11eb_a02b_acde48001122row2_col8,#T_014d047e_3fc6_11eb_a02b_acde48001122row3_col8,#T_014d047e_3fc6_11eb_a02b_acde48001122row6_col4,#T_014d047e_3fc6_11eb_a02b_acde48001122row6_col5,#T_014d047e_3fc6_11eb_a02b_acde48001122row6_col7{\n",
       "            background-color:  #4961d2;\n",
       "            color:  #f1f1f1;\n",
       "        }#T_014d047e_3fc6_11eb_a02b_acde48001122row2_col9{\n",
       "            background-color:  #4f69d9;\n",
       "            color:  #000000;\n",
       "        }#T_014d047e_3fc6_11eb_a02b_acde48001122row3_col0,#T_014d047e_3fc6_11eb_a02b_acde48001122row5_col1{\n",
       "            background-color:  #3e51c5;\n",
       "            color:  #f1f1f1;\n",
       "        }#T_014d047e_3fc6_11eb_a02b_acde48001122row3_col1,#T_014d047e_3fc6_11eb_a02b_acde48001122row4_col0,#T_014d047e_3fc6_11eb_a02b_acde48001122row4_col9,#T_014d047e_3fc6_11eb_a02b_acde48001122row5_col9,#T_014d047e_3fc6_11eb_a02b_acde48001122row7_col1,#T_014d047e_3fc6_11eb_a02b_acde48001122row7_col9,#T_014d047e_3fc6_11eb_a02b_acde48001122row9_col2,#T_014d047e_3fc6_11eb_a02b_acde48001122row9_col3,#T_014d047e_3fc6_11eb_a02b_acde48001122row9_col4,#T_014d047e_3fc6_11eb_a02b_acde48001122row9_col5,#T_014d047e_3fc6_11eb_a02b_acde48001122row9_col6,#T_014d047e_3fc6_11eb_a02b_acde48001122row9_col7,#T_014d047e_3fc6_11eb_a02b_acde48001122row9_col8{\n",
       "            background-color:  #3b4cc0;\n",
       "            color:  #f1f1f1;\n",
       "        }#T_014d047e_3fc6_11eb_a02b_acde48001122row3_col6,#T_014d047e_3fc6_11eb_a02b_acde48001122row8_col3{\n",
       "            background-color:  #536edd;\n",
       "            color:  #000000;\n",
       "        }#T_014d047e_3fc6_11eb_a02b_acde48001122row4_col1,#T_014d047e_3fc6_11eb_a02b_acde48001122row4_col8,#T_014d047e_3fc6_11eb_a02b_acde48001122row7_col8{\n",
       "            background-color:  #4055c8;\n",
       "            color:  #f1f1f1;\n",
       "        }#T_014d047e_3fc6_11eb_a02b_acde48001122row4_col2,#T_014d047e_3fc6_11eb_a02b_acde48001122row4_col3,#T_014d047e_3fc6_11eb_a02b_acde48001122row5_col2,#T_014d047e_3fc6_11eb_a02b_acde48001122row5_col3,#T_014d047e_3fc6_11eb_a02b_acde48001122row6_col8,#T_014d047e_3fc6_11eb_a02b_acde48001122row7_col2,#T_014d047e_3fc6_11eb_a02b_acde48001122row7_col3{\n",
       "            background-color:  #4257c9;\n",
       "            color:  #f1f1f1;\n",
       "        }#T_014d047e_3fc6_11eb_a02b_acde48001122row4_col5,#T_014d047e_3fc6_11eb_a02b_acde48001122row4_col6,#T_014d047e_3fc6_11eb_a02b_acde48001122row4_col7,#T_014d047e_3fc6_11eb_a02b_acde48001122row7_col4,#T_014d047e_3fc6_11eb_a02b_acde48001122row7_col5{\n",
       "            background-color:  #455cce;\n",
       "            color:  #f1f1f1;\n",
       "        }#T_014d047e_3fc6_11eb_a02b_acde48001122row5_col4,#T_014d047e_3fc6_11eb_a02b_acde48001122row5_col6,#T_014d047e_3fc6_11eb_a02b_acde48001122row5_col7,#T_014d047e_3fc6_11eb_a02b_acde48001122row6_col2,#T_014d047e_3fc6_11eb_a02b_acde48001122row6_col3,#T_014d047e_3fc6_11eb_a02b_acde48001122row7_col6,#T_014d047e_3fc6_11eb_a02b_acde48001122row8_col1{\n",
       "            background-color:  #445acc;\n",
       "            color:  #f1f1f1;\n",
       "        }#T_014d047e_3fc6_11eb_a02b_acde48001122row5_col8,#T_014d047e_3fc6_11eb_a02b_acde48001122row6_col9{\n",
       "            background-color:  #3f53c6;\n",
       "            color:  #f1f1f1;\n",
       "        }#T_014d047e_3fc6_11eb_a02b_acde48001122row6_col0,#T_014d047e_3fc6_11eb_a02b_acde48001122row8_col6{\n",
       "            background-color:  #5a78e4;\n",
       "            color:  #000000;\n",
       "        }#T_014d047e_3fc6_11eb_a02b_acde48001122row6_col1{\n",
       "            background-color:  #3d50c3;\n",
       "            color:  #f1f1f1;\n",
       "        }#T_014d047e_3fc6_11eb_a02b_acde48001122row8_col2{\n",
       "            background-color:  #516ddb;\n",
       "            color:  #000000;\n",
       "        }#T_014d047e_3fc6_11eb_a02b_acde48001122row8_col9{\n",
       "            background-color:  #5875e1;\n",
       "            color:  #000000;\n",
       "        }</style><table id=\"T_014d047e_3fc6_11eb_a02b_acde48001122\" ><thead>    <tr>        <th class=\"blank level0\" ></th>        <th class=\"col_heading level0 col0\" >part_price</th>        <th class=\"col_heading level0 col1\" >labour_amt</th>        <th class=\"col_heading level0 col2\" >make_Audi</th>        <th class=\"col_heading level0 col3\" >make_Citroen</th>        <th class=\"col_heading level0 col4\" >make_Ford</th>        <th class=\"col_heading level0 col5\" >make_Opel</th>        <th class=\"col_heading level0 col6\" >make_Peugeot</th>        <th class=\"col_heading level0 col7\" >make_Renault</th>        <th class=\"col_heading level0 col8\" >make_Seat</th>        <th class=\"col_heading level0 col9\" >make_Volkswagen</th>    </tr></thead><tbody>\n",
       "                <tr>\n",
       "                        <th id=\"T_014d047e_3fc6_11eb_a02b_acde48001122level0_row0\" class=\"row_heading level0 row0\" >part_price</th>\n",
       "                        <td id=\"T_014d047e_3fc6_11eb_a02b_acde48001122row0_col0\" class=\"data row0 col0\" >1.000000</td>\n",
       "                        <td id=\"T_014d047e_3fc6_11eb_a02b_acde48001122row0_col1\" class=\"data row0 col1\" >0.302957</td>\n",
       "                        <td id=\"T_014d047e_3fc6_11eb_a02b_acde48001122row0_col2\" class=\"data row0 col2\" >0.091181</td>\n",
       "                        <td id=\"T_014d047e_3fc6_11eb_a02b_acde48001122row0_col3\" class=\"data row0 col3\" >-0.087744</td>\n",
       "                        <td id=\"T_014d047e_3fc6_11eb_a02b_acde48001122row0_col4\" class=\"data row0 col4\" >-0.103899</td>\n",
       "                        <td id=\"T_014d047e_3fc6_11eb_a02b_acde48001122row0_col5\" class=\"data row0 col5\" >0.113350</td>\n",
       "                        <td id=\"T_014d047e_3fc6_11eb_a02b_acde48001122row0_col6\" class=\"data row0 col6\" >0.010720</td>\n",
       "                        <td id=\"T_014d047e_3fc6_11eb_a02b_acde48001122row0_col7\" class=\"data row0 col7\" >-0.033487</td>\n",
       "                        <td id=\"T_014d047e_3fc6_11eb_a02b_acde48001122row0_col8\" class=\"data row0 col8\" >-0.009123</td>\n",
       "                        <td id=\"T_014d047e_3fc6_11eb_a02b_acde48001122row0_col9\" class=\"data row0 col9\" >0.014304</td>\n",
       "            </tr>\n",
       "            <tr>\n",
       "                        <th id=\"T_014d047e_3fc6_11eb_a02b_acde48001122level0_row1\" class=\"row_heading level0 row1\" >labour_amt</th>\n",
       "                        <td id=\"T_014d047e_3fc6_11eb_a02b_acde48001122row1_col0\" class=\"data row1 col0\" >0.302957</td>\n",
       "                        <td id=\"T_014d047e_3fc6_11eb_a02b_acde48001122row1_col1\" class=\"data row1 col1\" >1.000000</td>\n",
       "                        <td id=\"T_014d047e_3fc6_11eb_a02b_acde48001122row1_col2\" class=\"data row1 col2\" >0.036462</td>\n",
       "                        <td id=\"T_014d047e_3fc6_11eb_a02b_acde48001122row1_col3\" class=\"data row1 col3\" >-0.023025</td>\n",
       "                        <td id=\"T_014d047e_3fc6_11eb_a02b_acde48001122row1_col4\" class=\"data row1 col4\" >-0.005533</td>\n",
       "                        <td id=\"T_014d047e_3fc6_11eb_a02b_acde48001122row1_col5\" class=\"data row1 col5\" >-0.010861</td>\n",
       "                        <td id=\"T_014d047e_3fc6_11eb_a02b_acde48001122row1_col6\" class=\"data row1 col6\" >-0.013723</td>\n",
       "                        <td id=\"T_014d047e_3fc6_11eb_a02b_acde48001122row1_col7\" class=\"data row1 col7\" >-0.025615</td>\n",
       "                        <td id=\"T_014d047e_3fc6_11eb_a02b_acde48001122row1_col8\" class=\"data row1 col8\" >0.006642</td>\n",
       "                        <td id=\"T_014d047e_3fc6_11eb_a02b_acde48001122row1_col9\" class=\"data row1 col9\" >0.036507</td>\n",
       "            </tr>\n",
       "            <tr>\n",
       "                        <th id=\"T_014d047e_3fc6_11eb_a02b_acde48001122level0_row2\" class=\"row_heading level0 row2\" >make_Audi</th>\n",
       "                        <td id=\"T_014d047e_3fc6_11eb_a02b_acde48001122row2_col0\" class=\"data row2 col0\" >0.091181</td>\n",
       "                        <td id=\"T_014d047e_3fc6_11eb_a02b_acde48001122row2_col1\" class=\"data row2 col1\" >0.036462</td>\n",
       "                        <td id=\"T_014d047e_3fc6_11eb_a02b_acde48001122row2_col2\" class=\"data row2 col2\" >1.000000</td>\n",
       "                        <td id=\"T_014d047e_3fc6_11eb_a02b_acde48001122row2_col3\" class=\"data row2 col3\" >-0.077360</td>\n",
       "                        <td id=\"T_014d047e_3fc6_11eb_a02b_acde48001122row2_col4\" class=\"data row2 col4\" >-0.116065</td>\n",
       "                        <td id=\"T_014d047e_3fc6_11eb_a02b_acde48001122row2_col5\" class=\"data row2 col5\" >-0.118373</td>\n",
       "                        <td id=\"T_014d047e_3fc6_11eb_a02b_acde48001122row2_col6\" class=\"data row2 col6\" >-0.107140</td>\n",
       "                        <td id=\"T_014d047e_3fc6_11eb_a02b_acde48001122row2_col7\" class=\"data row2 col7\" >-0.116230</td>\n",
       "                        <td id=\"T_014d047e_3fc6_11eb_a02b_acde48001122row2_col8\" class=\"data row2 col8\" >-0.058140</td>\n",
       "                        <td id=\"T_014d047e_3fc6_11eb_a02b_acde48001122row2_col9\" class=\"data row2 col9\" >-0.146042</td>\n",
       "            </tr>\n",
       "            <tr>\n",
       "                        <th id=\"T_014d047e_3fc6_11eb_a02b_acde48001122level0_row3\" class=\"row_heading level0 row3\" >make_Citroen</th>\n",
       "                        <td id=\"T_014d047e_3fc6_11eb_a02b_acde48001122row3_col0\" class=\"data row3 col0\" >-0.087744</td>\n",
       "                        <td id=\"T_014d047e_3fc6_11eb_a02b_acde48001122row3_col1\" class=\"data row3 col1\" >-0.023025</td>\n",
       "                        <td id=\"T_014d047e_3fc6_11eb_a02b_acde48001122row3_col2\" class=\"data row3 col2\" >-0.077360</td>\n",
       "                        <td id=\"T_014d047e_3fc6_11eb_a02b_acde48001122row3_col3\" class=\"data row3 col3\" >1.000000</td>\n",
       "                        <td id=\"T_014d047e_3fc6_11eb_a02b_acde48001122row3_col4\" class=\"data row3 col4\" >-0.119179</td>\n",
       "                        <td id=\"T_014d047e_3fc6_11eb_a02b_acde48001122row3_col5\" class=\"data row3 col5\" >-0.121548</td>\n",
       "                        <td id=\"T_014d047e_3fc6_11eb_a02b_acde48001122row3_col6\" class=\"data row3 col6\" >-0.110014</td>\n",
       "                        <td id=\"T_014d047e_3fc6_11eb_a02b_acde48001122row3_col7\" class=\"data row3 col7\" >-0.119347</td>\n",
       "                        <td id=\"T_014d047e_3fc6_11eb_a02b_acde48001122row3_col8\" class=\"data row3 col8\" >-0.059700</td>\n",
       "                        <td id=\"T_014d047e_3fc6_11eb_a02b_acde48001122row3_col9\" class=\"data row3 col9\" >-0.149959</td>\n",
       "            </tr>\n",
       "            <tr>\n",
       "                        <th id=\"T_014d047e_3fc6_11eb_a02b_acde48001122level0_row4\" class=\"row_heading level0 row4\" >make_Ford</th>\n",
       "                        <td id=\"T_014d047e_3fc6_11eb_a02b_acde48001122row4_col0\" class=\"data row4 col0\" >-0.103899</td>\n",
       "                        <td id=\"T_014d047e_3fc6_11eb_a02b_acde48001122row4_col1\" class=\"data row4 col1\" >-0.005533</td>\n",
       "                        <td id=\"T_014d047e_3fc6_11eb_a02b_acde48001122row4_col2\" class=\"data row4 col2\" >-0.116065</td>\n",
       "                        <td id=\"T_014d047e_3fc6_11eb_a02b_acde48001122row4_col3\" class=\"data row4 col3\" >-0.119179</td>\n",
       "                        <td id=\"T_014d047e_3fc6_11eb_a02b_acde48001122row4_col4\" class=\"data row4 col4\" >1.000000</td>\n",
       "                        <td id=\"T_014d047e_3fc6_11eb_a02b_acde48001122row4_col5\" class=\"data row4 col5\" >-0.182362</td>\n",
       "                        <td id=\"T_014d047e_3fc6_11eb_a02b_acde48001122row4_col6\" class=\"data row4 col6\" >-0.165057</td>\n",
       "                        <td id=\"T_014d047e_3fc6_11eb_a02b_acde48001122row4_col7\" class=\"data row4 col7\" >-0.179060</td>\n",
       "                        <td id=\"T_014d047e_3fc6_11eb_a02b_acde48001122row4_col8\" class=\"data row4 col8\" >-0.089569</td>\n",
       "                        <td id=\"T_014d047e_3fc6_11eb_a02b_acde48001122row4_col9\" class=\"data row4 col9\" >-0.224988</td>\n",
       "            </tr>\n",
       "            <tr>\n",
       "                        <th id=\"T_014d047e_3fc6_11eb_a02b_acde48001122level0_row5\" class=\"row_heading level0 row5\" >make_Opel</th>\n",
       "                        <td id=\"T_014d047e_3fc6_11eb_a02b_acde48001122row5_col0\" class=\"data row5 col0\" >0.113350</td>\n",
       "                        <td id=\"T_014d047e_3fc6_11eb_a02b_acde48001122row5_col1\" class=\"data row5 col1\" >-0.010861</td>\n",
       "                        <td id=\"T_014d047e_3fc6_11eb_a02b_acde48001122row5_col2\" class=\"data row5 col2\" >-0.118373</td>\n",
       "                        <td id=\"T_014d047e_3fc6_11eb_a02b_acde48001122row5_col3\" class=\"data row5 col3\" >-0.121548</td>\n",
       "                        <td id=\"T_014d047e_3fc6_11eb_a02b_acde48001122row5_col4\" class=\"data row5 col4\" >-0.182362</td>\n",
       "                        <td id=\"T_014d047e_3fc6_11eb_a02b_acde48001122row5_col5\" class=\"data row5 col5\" >1.000000</td>\n",
       "                        <td id=\"T_014d047e_3fc6_11eb_a02b_acde48001122row5_col6\" class=\"data row5 col6\" >-0.168338</td>\n",
       "                        <td id=\"T_014d047e_3fc6_11eb_a02b_acde48001122row5_col7\" class=\"data row5 col7\" >-0.182620</td>\n",
       "                        <td id=\"T_014d047e_3fc6_11eb_a02b_acde48001122row5_col8\" class=\"data row5 col8\" >-0.091350</td>\n",
       "                        <td id=\"T_014d047e_3fc6_11eb_a02b_acde48001122row5_col9\" class=\"data row5 col9\" >-0.229461</td>\n",
       "            </tr>\n",
       "            <tr>\n",
       "                        <th id=\"T_014d047e_3fc6_11eb_a02b_acde48001122level0_row6\" class=\"row_heading level0 row6\" >make_Peugeot</th>\n",
       "                        <td id=\"T_014d047e_3fc6_11eb_a02b_acde48001122row6_col0\" class=\"data row6 col0\" >0.010720</td>\n",
       "                        <td id=\"T_014d047e_3fc6_11eb_a02b_acde48001122row6_col1\" class=\"data row6 col1\" >-0.013723</td>\n",
       "                        <td id=\"T_014d047e_3fc6_11eb_a02b_acde48001122row6_col2\" class=\"data row6 col2\" >-0.107140</td>\n",
       "                        <td id=\"T_014d047e_3fc6_11eb_a02b_acde48001122row6_col3\" class=\"data row6 col3\" >-0.110014</td>\n",
       "                        <td id=\"T_014d047e_3fc6_11eb_a02b_acde48001122row6_col4\" class=\"data row6 col4\" >-0.165057</td>\n",
       "                        <td id=\"T_014d047e_3fc6_11eb_a02b_acde48001122row6_col5\" class=\"data row6 col5\" >-0.168338</td>\n",
       "                        <td id=\"T_014d047e_3fc6_11eb_a02b_acde48001122row6_col6\" class=\"data row6 col6\" >1.000000</td>\n",
       "                        <td id=\"T_014d047e_3fc6_11eb_a02b_acde48001122row6_col7\" class=\"data row6 col7\" >-0.165291</td>\n",
       "                        <td id=\"T_014d047e_3fc6_11eb_a02b_acde48001122row6_col8\" class=\"data row6 col8\" >-0.082681</td>\n",
       "                        <td id=\"T_014d047e_3fc6_11eb_a02b_acde48001122row6_col9\" class=\"data row6 col9\" >-0.207687</td>\n",
       "            </tr>\n",
       "            <tr>\n",
       "                        <th id=\"T_014d047e_3fc6_11eb_a02b_acde48001122level0_row7\" class=\"row_heading level0 row7\" >make_Renault</th>\n",
       "                        <td id=\"T_014d047e_3fc6_11eb_a02b_acde48001122row7_col0\" class=\"data row7 col0\" >-0.033487</td>\n",
       "                        <td id=\"T_014d047e_3fc6_11eb_a02b_acde48001122row7_col1\" class=\"data row7 col1\" >-0.025615</td>\n",
       "                        <td id=\"T_014d047e_3fc6_11eb_a02b_acde48001122row7_col2\" class=\"data row7 col2\" >-0.116230</td>\n",
       "                        <td id=\"T_014d047e_3fc6_11eb_a02b_acde48001122row7_col3\" class=\"data row7 col3\" >-0.119347</td>\n",
       "                        <td id=\"T_014d047e_3fc6_11eb_a02b_acde48001122row7_col4\" class=\"data row7 col4\" >-0.179060</td>\n",
       "                        <td id=\"T_014d047e_3fc6_11eb_a02b_acde48001122row7_col5\" class=\"data row7 col5\" >-0.182620</td>\n",
       "                        <td id=\"T_014d047e_3fc6_11eb_a02b_acde48001122row7_col6\" class=\"data row7 col6\" >-0.165291</td>\n",
       "                        <td id=\"T_014d047e_3fc6_11eb_a02b_acde48001122row7_col7\" class=\"data row7 col7\" >1.000000</td>\n",
       "                        <td id=\"T_014d047e_3fc6_11eb_a02b_acde48001122row7_col8\" class=\"data row7 col8\" >-0.089696</td>\n",
       "                        <td id=\"T_014d047e_3fc6_11eb_a02b_acde48001122row7_col9\" class=\"data row7 col9\" >-0.225307</td>\n",
       "            </tr>\n",
       "            <tr>\n",
       "                        <th id=\"T_014d047e_3fc6_11eb_a02b_acde48001122level0_row8\" class=\"row_heading level0 row8\" >make_Seat</th>\n",
       "                        <td id=\"T_014d047e_3fc6_11eb_a02b_acde48001122row8_col0\" class=\"data row8 col0\" >-0.009123</td>\n",
       "                        <td id=\"T_014d047e_3fc6_11eb_a02b_acde48001122row8_col1\" class=\"data row8 col1\" >0.006642</td>\n",
       "                        <td id=\"T_014d047e_3fc6_11eb_a02b_acde48001122row8_col2\" class=\"data row8 col2\" >-0.058140</td>\n",
       "                        <td id=\"T_014d047e_3fc6_11eb_a02b_acde48001122row8_col3\" class=\"data row8 col3\" >-0.059700</td>\n",
       "                        <td id=\"T_014d047e_3fc6_11eb_a02b_acde48001122row8_col4\" class=\"data row8 col4\" >-0.089569</td>\n",
       "                        <td id=\"T_014d047e_3fc6_11eb_a02b_acde48001122row8_col5\" class=\"data row8 col5\" >-0.091350</td>\n",
       "                        <td id=\"T_014d047e_3fc6_11eb_a02b_acde48001122row8_col6\" class=\"data row8 col6\" >-0.082681</td>\n",
       "                        <td id=\"T_014d047e_3fc6_11eb_a02b_acde48001122row8_col7\" class=\"data row8 col7\" >-0.089696</td>\n",
       "                        <td id=\"T_014d047e_3fc6_11eb_a02b_acde48001122row8_col8\" class=\"data row8 col8\" >1.000000</td>\n",
       "                        <td id=\"T_014d047e_3fc6_11eb_a02b_acde48001122row8_col9\" class=\"data row8 col9\" >-0.112703</td>\n",
       "            </tr>\n",
       "            <tr>\n",
       "                        <th id=\"T_014d047e_3fc6_11eb_a02b_acde48001122level0_row9\" class=\"row_heading level0 row9\" >make_Volkswagen</th>\n",
       "                        <td id=\"T_014d047e_3fc6_11eb_a02b_acde48001122row9_col0\" class=\"data row9 col0\" >0.014304</td>\n",
       "                        <td id=\"T_014d047e_3fc6_11eb_a02b_acde48001122row9_col1\" class=\"data row9 col1\" >0.036507</td>\n",
       "                        <td id=\"T_014d047e_3fc6_11eb_a02b_acde48001122row9_col2\" class=\"data row9 col2\" >-0.146042</td>\n",
       "                        <td id=\"T_014d047e_3fc6_11eb_a02b_acde48001122row9_col3\" class=\"data row9 col3\" >-0.149959</td>\n",
       "                        <td id=\"T_014d047e_3fc6_11eb_a02b_acde48001122row9_col4\" class=\"data row9 col4\" >-0.224988</td>\n",
       "                        <td id=\"T_014d047e_3fc6_11eb_a02b_acde48001122row9_col5\" class=\"data row9 col5\" >-0.229461</td>\n",
       "                        <td id=\"T_014d047e_3fc6_11eb_a02b_acde48001122row9_col6\" class=\"data row9 col6\" >-0.207687</td>\n",
       "                        <td id=\"T_014d047e_3fc6_11eb_a02b_acde48001122row9_col7\" class=\"data row9 col7\" >-0.225307</td>\n",
       "                        <td id=\"T_014d047e_3fc6_11eb_a02b_acde48001122row9_col8\" class=\"data row9 col8\" >-0.112703</td>\n",
       "                        <td id=\"T_014d047e_3fc6_11eb_a02b_acde48001122row9_col9\" class=\"data row9 col9\" >1.000000</td>\n",
       "            </tr>\n",
       "    </tbody></table>"
      ],
      "text/plain": [
       "<pandas.io.formats.style.Styler at 0x13551b670>"
      ]
     },
     "execution_count": 82,
     "metadata": {},
     "output_type": "execute_result"
    }
   ],
   "source": [
    "corr = pd.get_dummies(metadata[[\"make\", \"part_price\", \"labour_amt\"]], columns=[\"make\"]).dropna().corr()\n",
    "corr.style.background_gradient(cmap='coolwarm')"
   ]
  },
  {
   "cell_type": "code",
   "execution_count": null,
   "metadata": {},
   "outputs": [],
   "source": []
  }
 ],
 "metadata": {
  "kernelspec": {
   "display_name": "tractable",
   "language": "python",
   "name": "tractable"
  },
  "language_info": {
   "codemirror_mode": {
    "name": "ipython",
    "version": 3
   },
   "file_extension": ".py",
   "mimetype": "text/x-python",
   "name": "python",
   "nbconvert_exporter": "python",
   "pygments_lexer": "ipython3",
   "version": "3.8.5"
  }
 },
 "nbformat": 4,
 "nbformat_minor": 4
}
